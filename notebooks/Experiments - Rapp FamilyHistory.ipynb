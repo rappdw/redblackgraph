{
 "cells": [
  {
   "cell_type": "markdown",
   "metadata": {},
   "source": [
    "# A Number of Experiements with My FamilyHistory\n",
    "\n",
    "I've created a several person/relationship files (see redblackgraph.io.relationship_file_io.py for format). \n",
    "* medium-tree.csv - has 15 people and is a single component\n",
    "* large-tree.csv - has 54 people and is two components\n",
    "\n",
    "The following magic command can be used to examine the files...\n",
    "%load -r 10 Rapp-FamilyHistory/large-tree.csv\n",
    "\n",
    "We'll start by including redblackgraph and sympy and setting some print optons"
   ]
  },
  {
   "cell_type": "code",
   "execution_count": 1,
   "metadata": {},
   "outputs": [],
   "source": [
    "import numpy as np\n",
    "import redblackgraph as rb\n",
    "import sympy\n",
    "import numpy.linalg as LA\n",
    "import pandas as pd\n",
    "sympy.init_printing(use_unicode=True)\n",
    "pd.set_option('display.max_columns', 100)\n",
    "pd.set_option('display.width', 400)"
   ]
  },
  {
   "cell_type": "markdown",
   "metadata": {},
   "source": [
    "## Medium Tree\n",
    "The medium tree has enough data to be interesting (not trivial from visual inspection), but small enough to display some of the interesting properities in this notebook format. Let's load the tree, report the cardinality, determinant and eignevalues"
   ]
  },
  {
   "cell_type": "code",
   "execution_count": 2,
   "metadata": {},
   "outputs": [
    {
     "name": "stdout",
     "output_type": "stream",
     "text": [
      "Cardinality: {'red': 7, 'black': 8}, Determinant: -1, Eigenvalues: {-1: 7, 1: 8}\n"
     ]
    },
    {
     "data": {
      "text/latex": [
       "$$\\left[\\begin{array}{ccccccccccccccc}-1 & 2 & 3 & 0 & 0 & 0 & 0 & 0 & 0 & 0 & 0 & 0 & 0 & 0 & 0\\\\0 & -1 & 0 & 2 & 3 & 0 & 0 & 0 & 0 & 0 & 0 & 0 & 0 & 0 & 0\\\\0 & 0 & 1 & 0 & 0 & 2 & 3 & 0 & 0 & 0 & 0 & 0 & 0 & 0 & 0\\\\0 & 0 & 0 & -1 & 0 & 0 & 0 & 2 & 3 & 0 & 0 & 0 & 0 & 0 & 0\\\\0 & 0 & 0 & 0 & 1 & 0 & 0 & 0 & 0 & 0 & 0 & 0 & 0 & 0 & 0\\\\0 & 0 & 0 & 0 & 0 & -1 & 0 & 0 & 0 & 2 & 3 & 0 & 0 & 0 & 0\\\\0 & 0 & 0 & 0 & 0 & 0 & 1 & 0 & 0 & 0 & 0 & 0 & 0 & 0 & 0\\\\0 & 0 & 0 & 0 & 0 & 0 & 0 & -1 & 0 & 0 & 0 & 0 & 0 & 0 & 0\\\\0 & 0 & 0 & 0 & 0 & 0 & 0 & 0 & 1 & 0 & 0 & 0 & 0 & 0 & 0\\\\0 & 0 & 0 & 0 & 0 & 0 & 0 & 0 & 0 & -1 & 0 & 0 & 0 & 0 & 0\\\\0 & 0 & 0 & 0 & 0 & 0 & 0 & 0 & 0 & 0 & 1 & 0 & 0 & 0 & 0\\\\0 & 2 & 0 & 0 & 0 & 0 & 0 & 0 & 0 & 0 & 0 & -1 & 3 & 0 & 0\\\\0 & 0 & 0 & 0 & 0 & 0 & 0 & 0 & 0 & 0 & 0 & 0 & 1 & 0 & 0\\\\0 & 0 & 0 & 0 & 0 & 2 & 0 & 0 & 0 & 0 & 0 & 0 & 0 & 1 & 3\\\\0 & 0 & 0 & 0 & 0 & 0 & 0 & 0 & 0 & 0 & 0 & 0 & 0 & 0 & 1\\end{array}\\right]$$"
      ],
      "text/plain": [
       "⎡-1  2   3  0   0  0   0  0   0  0   0  0   0  0  0⎤\n",
       "⎢                                                  ⎥\n",
       "⎢0   -1  0  2   3  0   0  0   0  0   0  0   0  0  0⎥\n",
       "⎢                                                  ⎥\n",
       "⎢0   0   1  0   0  2   3  0   0  0   0  0   0  0  0⎥\n",
       "⎢                                                  ⎥\n",
       "⎢0   0   0  -1  0  0   0  2   3  0   0  0   0  0  0⎥\n",
       "⎢                                                  ⎥\n",
       "⎢0   0   0  0   1  0   0  0   0  0   0  0   0  0  0⎥\n",
       "⎢                                                  ⎥\n",
       "⎢0   0   0  0   0  -1  0  0   0  2   3  0   0  0  0⎥\n",
       "⎢                                                  ⎥\n",
       "⎢0   0   0  0   0  0   1  0   0  0   0  0   0  0  0⎥\n",
       "⎢                                                  ⎥\n",
       "⎢0   0   0  0   0  0   0  -1  0  0   0  0   0  0  0⎥\n",
       "⎢                                                  ⎥\n",
       "⎢0   0   0  0   0  0   0  0   1  0   0  0   0  0  0⎥\n",
       "⎢                                                  ⎥\n",
       "⎢0   0   0  0   0  0   0  0   0  -1  0  0   0  0  0⎥\n",
       "⎢                                                  ⎥\n",
       "⎢0   0   0  0   0  0   0  0   0  0   1  0   0  0  0⎥\n",
       "⎢                                                  ⎥\n",
       "⎢0   2   0  0   0  0   0  0   0  0   0  -1  3  0  0⎥\n",
       "⎢                                                  ⎥\n",
       "⎢0   0   0  0   0  0   0  0   0  0   0  0   1  0  0⎥\n",
       "⎢                                                  ⎥\n",
       "⎢0   0   0  0   0  2   0  0   0  0   0  0   0  1  3⎥\n",
       "⎢                                                  ⎥\n",
       "⎣0   0   0  0   0  0   0  0   0  0   0  0   0  0  1⎦"
      ]
     },
     "execution_count": 2,
     "metadata": {},
     "output_type": "execute_result"
    }
   ],
   "source": [
    "reader = rb.RelationshipFileReader('Rapp-FamilyHistory/medium-tree.csv')\n",
    "R = reader()\n",
    "M = sympy.Matrix(R)\n",
    "print(f\"Cardinality: {R.cardinality()}, Determinant: {M.det()}, Eigenvalues: {M.eigenvals()}\")\n",
    "M"
   ]
  },
  {
   "cell_type": "markdown",
   "metadata": {},
   "source": [
    "**Observe**: The cardinality and eigenvalues are the same. \n",
    "\n",
    "Let's also inspect the eignevectors."
   ]
  },
  {
   "cell_type": "code",
   "execution_count": 3,
   "metadata": {},
   "outputs": [
    {
     "data": {
      "text/latex": [
       "$$\\left [ \\left ( -1, \\quad 7, \\quad \\left [ \\left[\\begin{matrix}1\\\\0\\\\0\\\\0\\\\0\\\\0\\\\0\\\\0\\\\0\\\\0\\\\0\\\\0\\\\0\\\\0\\\\0\\end{matrix}\\right], \\quad \\left[\\begin{matrix}0\\\\0\\\\0\\\\0\\\\0\\\\0\\\\0\\\\0\\\\0\\\\0\\\\0\\\\1\\\\0\\\\0\\\\0\\end{matrix}\\right]\\right ]\\right ), \\quad \\left ( 1, \\quad 8, \\quad \\left [ \\left[\\begin{matrix}\\frac{3}{2}\\\\0\\\\1\\\\0\\\\0\\\\0\\\\0\\\\0\\\\0\\\\0\\\\0\\\\0\\\\0\\\\0\\\\0\\end{matrix}\\right], \\quad \\left[\\begin{matrix}0\\\\0\\\\0\\\\\\frac{3}{2}\\\\-1\\\\0\\\\0\\\\0\\\\1\\\\0\\\\0\\\\0\\\\0\\\\0\\\\0\\end{matrix}\\right], \\quad \\left[\\begin{matrix}1\\\\1\\\\0\\\\0\\\\\\frac{2}{3}\\\\0\\\\0\\\\0\\\\0\\\\0\\\\0\\\\1\\\\0\\\\0\\\\0\\end{matrix}\\right], \\quad \\left[\\begin{matrix}- \\frac{3}{2}\\\\- \\frac{3}{2}\\\\0\\\\0\\\\-1\\\\0\\\\0\\\\0\\\\0\\\\0\\\\0\\\\0\\\\1\\\\0\\\\0\\end{matrix}\\right], \\quad \\left[\\begin{matrix}0\\\\0\\\\0\\\\0\\\\0\\\\0\\\\0\\\\0\\\\0\\\\0\\\\0\\\\0\\\\0\\\\1\\\\0\\end{matrix}\\right], \\quad \\left[\\begin{matrix}0\\\\0\\\\0\\\\0\\\\0\\\\- \\frac{3}{2}\\\\1\\\\0\\\\0\\\\0\\\\-1\\\\0\\\\0\\\\0\\\\1\\end{matrix}\\right]\\right ]\\right )\\right ]$$"
      ],
      "text/plain": [
       "⎡⎛       ⎡⎡1⎤  ⎡0⎤⎤⎞  ⎛      ⎡⎡3/2⎤  ⎡ 0 ⎤  ⎡ 1 ⎤  ⎡-3/2⎤  ⎡0⎤  ⎡ 0  ⎤⎤⎞⎤\n",
       "⎢⎜       ⎢⎢ ⎥  ⎢ ⎥⎥⎟  ⎜      ⎢⎢   ⎥  ⎢   ⎥  ⎢   ⎥  ⎢    ⎥  ⎢ ⎥  ⎢    ⎥⎥⎟⎥\n",
       "⎢⎜       ⎢⎢0⎥  ⎢0⎥⎥⎟  ⎜      ⎢⎢ 0 ⎥  ⎢ 0 ⎥  ⎢ 1 ⎥  ⎢-3/2⎥  ⎢0⎥  ⎢ 0  ⎥⎥⎟⎥\n",
       "⎢⎜       ⎢⎢ ⎥  ⎢ ⎥⎥⎟  ⎜      ⎢⎢   ⎥  ⎢   ⎥  ⎢   ⎥  ⎢    ⎥  ⎢ ⎥  ⎢    ⎥⎥⎟⎥\n",
       "⎢⎜       ⎢⎢0⎥  ⎢0⎥⎥⎟  ⎜      ⎢⎢ 1 ⎥  ⎢ 0 ⎥  ⎢ 0 ⎥  ⎢ 0  ⎥  ⎢0⎥  ⎢ 0  ⎥⎥⎟⎥\n",
       "⎢⎜       ⎢⎢ ⎥  ⎢ ⎥⎥⎟  ⎜      ⎢⎢   ⎥  ⎢   ⎥  ⎢   ⎥  ⎢    ⎥  ⎢ ⎥  ⎢    ⎥⎥⎟⎥\n",
       "⎢⎜       ⎢⎢0⎥  ⎢0⎥⎥⎟  ⎜      ⎢⎢ 0 ⎥  ⎢3/2⎥  ⎢ 0 ⎥  ⎢ 0  ⎥  ⎢0⎥  ⎢ 0  ⎥⎥⎟⎥\n",
       "⎢⎜       ⎢⎢ ⎥  ⎢ ⎥⎥⎟  ⎜      ⎢⎢   ⎥  ⎢   ⎥  ⎢   ⎥  ⎢    ⎥  ⎢ ⎥  ⎢    ⎥⎥⎟⎥\n",
       "⎢⎜       ⎢⎢0⎥  ⎢0⎥⎥⎟  ⎜      ⎢⎢ 0 ⎥  ⎢-1 ⎥  ⎢2/3⎥  ⎢ -1 ⎥  ⎢0⎥  ⎢ 0  ⎥⎥⎟⎥\n",
       "⎢⎜       ⎢⎢ ⎥  ⎢ ⎥⎥⎟  ⎜      ⎢⎢   ⎥  ⎢   ⎥  ⎢   ⎥  ⎢    ⎥  ⎢ ⎥  ⎢    ⎥⎥⎟⎥\n",
       "⎢⎜       ⎢⎢0⎥  ⎢0⎥⎥⎟  ⎜      ⎢⎢ 0 ⎥  ⎢ 0 ⎥  ⎢ 0 ⎥  ⎢ 0  ⎥  ⎢0⎥  ⎢-3/2⎥⎥⎟⎥\n",
       "⎢⎜       ⎢⎢ ⎥  ⎢ ⎥⎥⎟  ⎜      ⎢⎢   ⎥  ⎢   ⎥  ⎢   ⎥  ⎢    ⎥  ⎢ ⎥  ⎢    ⎥⎥⎟⎥\n",
       "⎢⎜       ⎢⎢0⎥  ⎢0⎥⎥⎟  ⎜      ⎢⎢ 0 ⎥  ⎢ 0 ⎥  ⎢ 0 ⎥  ⎢ 0  ⎥  ⎢0⎥  ⎢ 1  ⎥⎥⎟⎥\n",
       "⎢⎜       ⎢⎢ ⎥  ⎢ ⎥⎥⎟  ⎜      ⎢⎢   ⎥  ⎢   ⎥  ⎢   ⎥  ⎢    ⎥  ⎢ ⎥  ⎢    ⎥⎥⎟⎥\n",
       "⎢⎜-1, 7, ⎢⎢0⎥, ⎢0⎥⎥⎟, ⎜1, 8, ⎢⎢ 0 ⎥, ⎢ 0 ⎥, ⎢ 0 ⎥, ⎢ 0  ⎥, ⎢0⎥, ⎢ 0  ⎥⎥⎟⎥\n",
       "⎢⎜       ⎢⎢ ⎥  ⎢ ⎥⎥⎟  ⎜      ⎢⎢   ⎥  ⎢   ⎥  ⎢   ⎥  ⎢    ⎥  ⎢ ⎥  ⎢    ⎥⎥⎟⎥\n",
       "⎢⎜       ⎢⎢0⎥  ⎢0⎥⎥⎟  ⎜      ⎢⎢ 0 ⎥  ⎢ 1 ⎥  ⎢ 0 ⎥  ⎢ 0  ⎥  ⎢0⎥  ⎢ 0  ⎥⎥⎟⎥\n",
       "⎢⎜       ⎢⎢ ⎥  ⎢ ⎥⎥⎟  ⎜      ⎢⎢   ⎥  ⎢   ⎥  ⎢   ⎥  ⎢    ⎥  ⎢ ⎥  ⎢    ⎥⎥⎟⎥\n",
       "⎢⎜       ⎢⎢0⎥  ⎢0⎥⎥⎟  ⎜      ⎢⎢ 0 ⎥  ⎢ 0 ⎥  ⎢ 0 ⎥  ⎢ 0  ⎥  ⎢0⎥  ⎢ 0  ⎥⎥⎟⎥\n",
       "⎢⎜       ⎢⎢ ⎥  ⎢ ⎥⎥⎟  ⎜      ⎢⎢   ⎥  ⎢   ⎥  ⎢   ⎥  ⎢    ⎥  ⎢ ⎥  ⎢    ⎥⎥⎟⎥\n",
       "⎢⎜       ⎢⎢0⎥  ⎢0⎥⎥⎟  ⎜      ⎢⎢ 0 ⎥  ⎢ 0 ⎥  ⎢ 0 ⎥  ⎢ 0  ⎥  ⎢0⎥  ⎢ -1 ⎥⎥⎟⎥\n",
       "⎢⎜       ⎢⎢ ⎥  ⎢ ⎥⎥⎟  ⎜      ⎢⎢   ⎥  ⎢   ⎥  ⎢   ⎥  ⎢    ⎥  ⎢ ⎥  ⎢    ⎥⎥⎟⎥\n",
       "⎢⎜       ⎢⎢0⎥  ⎢1⎥⎥⎟  ⎜      ⎢⎢ 0 ⎥  ⎢ 0 ⎥  ⎢ 1 ⎥  ⎢ 0  ⎥  ⎢0⎥  ⎢ 0  ⎥⎥⎟⎥\n",
       "⎢⎜       ⎢⎢ ⎥  ⎢ ⎥⎥⎟  ⎜      ⎢⎢   ⎥  ⎢   ⎥  ⎢   ⎥  ⎢    ⎥  ⎢ ⎥  ⎢    ⎥⎥⎟⎥\n",
       "⎢⎜       ⎢⎢0⎥  ⎢0⎥⎥⎟  ⎜      ⎢⎢ 0 ⎥  ⎢ 0 ⎥  ⎢ 0 ⎥  ⎢ 1  ⎥  ⎢0⎥  ⎢ 0  ⎥⎥⎟⎥\n",
       "⎢⎜       ⎢⎢ ⎥  ⎢ ⎥⎥⎟  ⎜      ⎢⎢   ⎥  ⎢   ⎥  ⎢   ⎥  ⎢    ⎥  ⎢ ⎥  ⎢    ⎥⎥⎟⎥\n",
       "⎢⎜       ⎢⎢0⎥  ⎢0⎥⎥⎟  ⎜      ⎢⎢ 0 ⎥  ⎢ 0 ⎥  ⎢ 0 ⎥  ⎢ 0  ⎥  ⎢1⎥  ⎢ 0  ⎥⎥⎟⎥\n",
       "⎢⎜       ⎢⎢ ⎥  ⎢ ⎥⎥⎟  ⎜      ⎢⎢   ⎥  ⎢   ⎥  ⎢   ⎥  ⎢    ⎥  ⎢ ⎥  ⎢    ⎥⎥⎟⎥\n",
       "⎣⎝       ⎣⎣0⎦  ⎣0⎦⎦⎠  ⎝      ⎣⎣ 0 ⎦  ⎣ 0 ⎦  ⎣ 0 ⎦  ⎣ 0  ⎦  ⎣0⎦  ⎣ 1  ⎦⎦⎠⎦"
      ]
     },
     "execution_count": 3,
     "metadata": {},
     "output_type": "execute_result"
    }
   ],
   "source": [
    "M.eigenvects()"
   ]
  },
  {
   "cell_type": "markdown",
   "metadata": {},
   "source": [
    "**Observe**: Those columns that represent vertices in the graph with no descendents show up as eigenvectors.\n",
    "\n",
    "Now let's transitively close the graph and inspect the eigenvalues and eigenvectors again."
   ]
  },
  {
   "cell_type": "code",
   "execution_count": 4,
   "metadata": {},
   "outputs": [
    {
     "name": "stdout",
     "output_type": "stream",
     "text": [
      "Diameter: 3, Determinant: -1, Eigenvalues: {-1: 7, 1: 8}\n"
     ]
    },
    {
     "data": {
      "text/latex": [
       "$$\\left [ \\left ( -1, \\quad 7, \\quad \\left [ \\left[\\begin{matrix}1\\\\0\\\\0\\\\0\\\\0\\\\0\\\\0\\\\0\\\\0\\\\0\\\\0\\\\0\\\\0\\\\0\\\\0\\end{matrix}\\right], \\quad \\left[\\begin{matrix}0\\\\0\\\\0\\\\0\\\\0\\\\0\\\\0\\\\0\\\\0\\\\0\\\\0\\\\1\\\\0\\\\0\\\\0\\end{matrix}\\right]\\right ]\\right ), \\quad \\left ( 1, \\quad 8, \\quad \\left [ \\left[\\begin{matrix}\\frac{3}{2}\\\\0\\\\1\\\\0\\\\0\\\\0\\\\0\\\\0\\\\0\\\\0\\\\0\\\\0\\\\0\\\\0\\\\0\\end{matrix}\\right], \\quad \\left[\\begin{matrix}0\\\\- \\frac{5}{16}\\\\0\\\\\\frac{3}{2}\\\\- \\frac{23}{8}\\\\0\\\\0\\\\0\\\\1\\\\0\\\\0\\\\0\\\\0\\\\0\\\\0\\end{matrix}\\right], \\quad \\left[\\begin{matrix}1\\\\\\frac{3}{8}\\\\0\\\\0\\\\\\frac{1}{4}\\\\0\\\\0\\\\0\\\\0\\\\0\\\\0\\\\1\\\\0\\\\0\\\\0\\end{matrix}\\right], \\quad \\left[\\begin{matrix}- \\frac{3}{2}\\\\- \\frac{9}{16}\\\\0\\\\0\\\\- \\frac{3}{8}\\\\0\\\\0\\\\0\\\\0\\\\0\\\\0\\\\0\\\\1\\\\0\\\\0\\end{matrix}\\right], \\quad \\left[\\begin{matrix}0\\\\0\\\\0\\\\0\\\\0\\\\0\\\\0\\\\0\\\\0\\\\0\\\\0\\\\0\\\\0\\\\1\\\\0\\end{matrix}\\right], \\quad \\left[\\begin{matrix}- \\frac{5}{8}\\\\0\\\\0\\\\0\\\\0\\\\- \\frac{9}{16}\\\\1\\\\0\\\\0\\\\0\\\\- \\frac{3}{8}\\\\0\\\\0\\\\0\\\\1\\end{matrix}\\right]\\right ]\\right )\\right ]$$"
      ],
      "text/plain": [
       "⎡⎛       ⎡⎡1⎤  ⎡0⎤⎤⎞  ⎛      ⎡⎡3/2⎤  ⎡  0  ⎤  ⎡ 1 ⎤  ⎡-3/2 ⎤  ⎡0⎤  ⎡-5/8 ⎤⎤⎞⎤\n",
       "⎢⎜       ⎢⎢ ⎥  ⎢ ⎥⎥⎟  ⎜      ⎢⎢   ⎥  ⎢     ⎥  ⎢   ⎥  ⎢     ⎥  ⎢ ⎥  ⎢     ⎥⎥⎟⎥\n",
       "⎢⎜       ⎢⎢0⎥  ⎢0⎥⎥⎟  ⎜      ⎢⎢ 0 ⎥  ⎢-5/16⎥  ⎢3/8⎥  ⎢-9/16⎥  ⎢0⎥  ⎢  0  ⎥⎥⎟⎥\n",
       "⎢⎜       ⎢⎢ ⎥  ⎢ ⎥⎥⎟  ⎜      ⎢⎢   ⎥  ⎢     ⎥  ⎢   ⎥  ⎢     ⎥  ⎢ ⎥  ⎢     ⎥⎥⎟⎥\n",
       "⎢⎜       ⎢⎢0⎥  ⎢0⎥⎥⎟  ⎜      ⎢⎢ 1 ⎥  ⎢  0  ⎥  ⎢ 0 ⎥  ⎢  0  ⎥  ⎢0⎥  ⎢  0  ⎥⎥⎟⎥\n",
       "⎢⎜       ⎢⎢ ⎥  ⎢ ⎥⎥⎟  ⎜      ⎢⎢   ⎥  ⎢     ⎥  ⎢   ⎥  ⎢     ⎥  ⎢ ⎥  ⎢     ⎥⎥⎟⎥\n",
       "⎢⎜       ⎢⎢0⎥  ⎢0⎥⎥⎟  ⎜      ⎢⎢ 0 ⎥  ⎢ 3/2 ⎥  ⎢ 0 ⎥  ⎢  0  ⎥  ⎢0⎥  ⎢  0  ⎥⎥⎟⎥\n",
       "⎢⎜       ⎢⎢ ⎥  ⎢ ⎥⎥⎟  ⎜      ⎢⎢   ⎥  ⎢     ⎥  ⎢   ⎥  ⎢     ⎥  ⎢ ⎥  ⎢     ⎥⎥⎟⎥\n",
       "⎢⎜       ⎢⎢0⎥  ⎢0⎥⎥⎟  ⎜      ⎢⎢ 0 ⎥  ⎢-23/8⎥  ⎢1/4⎥  ⎢-3/8 ⎥  ⎢0⎥  ⎢  0  ⎥⎥⎟⎥\n",
       "⎢⎜       ⎢⎢ ⎥  ⎢ ⎥⎥⎟  ⎜      ⎢⎢   ⎥  ⎢     ⎥  ⎢   ⎥  ⎢     ⎥  ⎢ ⎥  ⎢     ⎥⎥⎟⎥\n",
       "⎢⎜       ⎢⎢0⎥  ⎢0⎥⎥⎟  ⎜      ⎢⎢ 0 ⎥  ⎢  0  ⎥  ⎢ 0 ⎥  ⎢  0  ⎥  ⎢0⎥  ⎢-9/16⎥⎥⎟⎥\n",
       "⎢⎜       ⎢⎢ ⎥  ⎢ ⎥⎥⎟  ⎜      ⎢⎢   ⎥  ⎢     ⎥  ⎢   ⎥  ⎢     ⎥  ⎢ ⎥  ⎢     ⎥⎥⎟⎥\n",
       "⎢⎜       ⎢⎢0⎥  ⎢0⎥⎥⎟  ⎜      ⎢⎢ 0 ⎥  ⎢  0  ⎥  ⎢ 0 ⎥  ⎢  0  ⎥  ⎢0⎥  ⎢  1  ⎥⎥⎟⎥\n",
       "⎢⎜       ⎢⎢ ⎥  ⎢ ⎥⎥⎟  ⎜      ⎢⎢   ⎥  ⎢     ⎥  ⎢   ⎥  ⎢     ⎥  ⎢ ⎥  ⎢     ⎥⎥⎟⎥\n",
       "⎢⎜-1, 7, ⎢⎢0⎥, ⎢0⎥⎥⎟, ⎜1, 8, ⎢⎢ 0 ⎥, ⎢  0  ⎥, ⎢ 0 ⎥, ⎢  0  ⎥, ⎢0⎥, ⎢  0  ⎥⎥⎟⎥\n",
       "⎢⎜       ⎢⎢ ⎥  ⎢ ⎥⎥⎟  ⎜      ⎢⎢   ⎥  ⎢     ⎥  ⎢   ⎥  ⎢     ⎥  ⎢ ⎥  ⎢     ⎥⎥⎟⎥\n",
       "⎢⎜       ⎢⎢0⎥  ⎢0⎥⎥⎟  ⎜      ⎢⎢ 0 ⎥  ⎢  1  ⎥  ⎢ 0 ⎥  ⎢  0  ⎥  ⎢0⎥  ⎢  0  ⎥⎥⎟⎥\n",
       "⎢⎜       ⎢⎢ ⎥  ⎢ ⎥⎥⎟  ⎜      ⎢⎢   ⎥  ⎢     ⎥  ⎢   ⎥  ⎢     ⎥  ⎢ ⎥  ⎢     ⎥⎥⎟⎥\n",
       "⎢⎜       ⎢⎢0⎥  ⎢0⎥⎥⎟  ⎜      ⎢⎢ 0 ⎥  ⎢  0  ⎥  ⎢ 0 ⎥  ⎢  0  ⎥  ⎢0⎥  ⎢  0  ⎥⎥⎟⎥\n",
       "⎢⎜       ⎢⎢ ⎥  ⎢ ⎥⎥⎟  ⎜      ⎢⎢   ⎥  ⎢     ⎥  ⎢   ⎥  ⎢     ⎥  ⎢ ⎥  ⎢     ⎥⎥⎟⎥\n",
       "⎢⎜       ⎢⎢0⎥  ⎢0⎥⎥⎟  ⎜      ⎢⎢ 0 ⎥  ⎢  0  ⎥  ⎢ 0 ⎥  ⎢  0  ⎥  ⎢0⎥  ⎢-3/8 ⎥⎥⎟⎥\n",
       "⎢⎜       ⎢⎢ ⎥  ⎢ ⎥⎥⎟  ⎜      ⎢⎢   ⎥  ⎢     ⎥  ⎢   ⎥  ⎢     ⎥  ⎢ ⎥  ⎢     ⎥⎥⎟⎥\n",
       "⎢⎜       ⎢⎢0⎥  ⎢1⎥⎥⎟  ⎜      ⎢⎢ 0 ⎥  ⎢  0  ⎥  ⎢ 1 ⎥  ⎢  0  ⎥  ⎢0⎥  ⎢  0  ⎥⎥⎟⎥\n",
       "⎢⎜       ⎢⎢ ⎥  ⎢ ⎥⎥⎟  ⎜      ⎢⎢   ⎥  ⎢     ⎥  ⎢   ⎥  ⎢     ⎥  ⎢ ⎥  ⎢     ⎥⎥⎟⎥\n",
       "⎢⎜       ⎢⎢0⎥  ⎢0⎥⎥⎟  ⎜      ⎢⎢ 0 ⎥  ⎢  0  ⎥  ⎢ 0 ⎥  ⎢  1  ⎥  ⎢0⎥  ⎢  0  ⎥⎥⎟⎥\n",
       "⎢⎜       ⎢⎢ ⎥  ⎢ ⎥⎥⎟  ⎜      ⎢⎢   ⎥  ⎢     ⎥  ⎢   ⎥  ⎢     ⎥  ⎢ ⎥  ⎢     ⎥⎥⎟⎥\n",
       "⎢⎜       ⎢⎢0⎥  ⎢0⎥⎥⎟  ⎜      ⎢⎢ 0 ⎥  ⎢  0  ⎥  ⎢ 0 ⎥  ⎢  0  ⎥  ⎢1⎥  ⎢  0  ⎥⎥⎟⎥\n",
       "⎢⎜       ⎢⎢ ⎥  ⎢ ⎥⎥⎟  ⎜      ⎢⎢   ⎥  ⎢     ⎥  ⎢   ⎥  ⎢     ⎥  ⎢ ⎥  ⎢     ⎥⎥⎟⎥\n",
       "⎣⎝       ⎣⎣0⎦  ⎣0⎦⎦⎠  ⎝      ⎣⎣ 0 ⎦  ⎣  0  ⎦  ⎣ 0 ⎦  ⎣  0  ⎦  ⎣0⎦  ⎣  1  ⎦⎦⎠⎦"
      ]
     },
     "execution_count": 4,
     "metadata": {},
     "output_type": "execute_result"
    }
   ],
   "source": [
    "closure = R.transitive_closure()\n",
    "R_star, diameter = closure.W, closure.diameter\n",
    "M = sympy.Matrix(R_star)\n",
    "print(f\"Diameter: {diameter}, Determinant: {M.det()}, Eigenvalues: {M.eigenvals()}\")\n",
    "M.eigenvects()"
   ]
  },
  {
   "cell_type": "markdown",
   "metadata": {},
   "source": [
    "Let's verify that this graph has a single connected component."
   ]
  },
  {
   "cell_type": "code",
   "execution_count": 5,
   "metadata": {},
   "outputs": [
    {
     "data": {
      "text/html": [
       "<div>\n",
       "<style scoped>\n",
       "    .dataframe tbody tr th:only-of-type {\n",
       "        vertical-align: middle;\n",
       "    }\n",
       "\n",
       "    .dataframe tbody tr th {\n",
       "        vertical-align: top;\n",
       "    }\n",
       "\n",
       "    .dataframe thead th {\n",
       "        text-align: right;\n",
       "    }\n",
       "</style>\n",
       "<table border=\"1\" class=\"dataframe\">\n",
       "  <thead>\n",
       "    <tr style=\"text-align: right;\">\n",
       "      <th></th>\n",
       "      <th>0</th>\n",
       "      <th>1</th>\n",
       "      <th>2</th>\n",
       "      <th>3</th>\n",
       "      <th>4</th>\n",
       "      <th>5</th>\n",
       "      <th>6</th>\n",
       "      <th>7</th>\n",
       "      <th>8</th>\n",
       "      <th>9</th>\n",
       "      <th>10</th>\n",
       "      <th>11</th>\n",
       "      <th>12</th>\n",
       "      <th>13</th>\n",
       "      <th>14</th>\n",
       "    </tr>\n",
       "  </thead>\n",
       "  <tbody>\n",
       "    <tr>\n",
       "      <th>0</th>\n",
       "      <td>1</td>\n",
       "      <td>1</td>\n",
       "      <td>1</td>\n",
       "      <td>1</td>\n",
       "      <td>1</td>\n",
       "      <td>1</td>\n",
       "      <td>1</td>\n",
       "      <td>1</td>\n",
       "      <td>1</td>\n",
       "      <td>1</td>\n",
       "      <td>1</td>\n",
       "      <td>1</td>\n",
       "      <td>1</td>\n",
       "      <td>1</td>\n",
       "      <td>1</td>\n",
       "    </tr>\n",
       "  </tbody>\n",
       "</table>\n",
       "</div>"
      ],
      "text/plain": [
       "   0   1   2   3   4   5   6   7   8   9   10  11  12  13  14\n",
       "0   1   1   1   1   1   1   1   1   1   1   1   1   1   1   1"
      ]
     },
     "execution_count": 5,
     "metadata": {},
     "output_type": "execute_result"
    }
   ],
   "source": [
    "from redblackgraph.reference.components import find_components\n",
    "u = find_components(R_star)\n",
    "df = pd.DataFrame(u).transpose()\n",
    "df"
   ]
  },
  {
   "cell_type": "markdown",
   "metadata": {},
   "source": [
    "Now, let's get the canonical form of the graph and examine which nodes went where."
   ]
  },
  {
   "cell_type": "code",
   "execution_count": 6,
   "metadata": {},
   "outputs": [
    {
     "data": {
      "text/latex": [
       "$$\\left[\\begin{array}{ccccccccccccccc}-1 & 0 & 0 & 3 & 2 & 6 & 4 & 0 & 0 & 13 & 9 & 7 & 5 & 12 & 8\\\\0 & -1 & 0 & 0 & 2 & 0 & 4 & 0 & 3 & 0 & 9 & 0 & 5 & 0 & 8\\\\0 & 0 & 1 & 0 & 0 & 2 & 0 & 3 & 0 & 5 & 0 & 0 & 0 & 4 & 0\\\\0 & 0 & 0 & 1 & 0 & 2 & 0 & 0 & 0 & 5 & 0 & 3 & 0 & 4 & 0\\\\0 & 0 & 0 & 0 & -1 & 0 & 2 & 0 & 0 & 0 & 5 & 0 & 3 & 0 & 4\\\\0 & 0 & 0 & 0 & 0 & -1 & 0 & 0 & 0 & 3 & 0 & 0 & 0 & 2 & 0\\\\0 & 0 & 0 & 0 & 0 & 0 & -1 & 0 & 0 & 0 & 3 & 0 & 0 & 0 & 2\\\\0 & 0 & 0 & 0 & 0 & 0 & 0 & 1 & 0 & 0 & 0 & 0 & 0 & 0 & 0\\\\0 & 0 & 0 & 0 & 0 & 0 & 0 & 0 & 1 & 0 & 0 & 0 & 0 & 0 & 0\\\\0 & 0 & 0 & 0 & 0 & 0 & 0 & 0 & 0 & 1 & 0 & 0 & 0 & 0 & 0\\\\0 & 0 & 0 & 0 & 0 & 0 & 0 & 0 & 0 & 0 & 1 & 0 & 0 & 0 & 0\\\\0 & 0 & 0 & 0 & 0 & 0 & 0 & 0 & 0 & 0 & 0 & 1 & 0 & 0 & 0\\\\0 & 0 & 0 & 0 & 0 & 0 & 0 & 0 & 0 & 0 & 0 & 0 & 1 & 0 & 0\\\\0 & 0 & 0 & 0 & 0 & 0 & 0 & 0 & 0 & 0 & 0 & 0 & 0 & -1 & 0\\\\0 & 0 & 0 & 0 & 0 & 0 & 0 & 0 & 0 & 0 & 0 & 0 & 0 & 0 & -1\\end{array}\\right]$$"
      ],
      "text/plain": [
       "⎡-1  0   0  3  2   6   4   0  0  13  9  7  5  12  8 ⎤\n",
       "⎢                                                   ⎥\n",
       "⎢0   -1  0  0  2   0   4   0  3  0   9  0  5  0   8 ⎥\n",
       "⎢                                                   ⎥\n",
       "⎢0   0   1  0  0   2   0   3  0  5   0  0  0  4   0 ⎥\n",
       "⎢                                                   ⎥\n",
       "⎢0   0   0  1  0   2   0   0  0  5   0  3  0  4   0 ⎥\n",
       "⎢                                                   ⎥\n",
       "⎢0   0   0  0  -1  0   2   0  0  0   5  0  3  0   4 ⎥\n",
       "⎢                                                   ⎥\n",
       "⎢0   0   0  0  0   -1  0   0  0  3   0  0  0  2   0 ⎥\n",
       "⎢                                                   ⎥\n",
       "⎢0   0   0  0  0   0   -1  0  0  0   3  0  0  0   2 ⎥\n",
       "⎢                                                   ⎥\n",
       "⎢0   0   0  0  0   0   0   1  0  0   0  0  0  0   0 ⎥\n",
       "⎢                                                   ⎥\n",
       "⎢0   0   0  0  0   0   0   0  1  0   0  0  0  0   0 ⎥\n",
       "⎢                                                   ⎥\n",
       "⎢0   0   0  0  0   0   0   0  0  1   0  0  0  0   0 ⎥\n",
       "⎢                                                   ⎥\n",
       "⎢0   0   0  0  0   0   0   0  0  0   1  0  0  0   0 ⎥\n",
       "⎢                                                   ⎥\n",
       "⎢0   0   0  0  0   0   0   0  0  0   0  1  0  0   0 ⎥\n",
       "⎢                                                   ⎥\n",
       "⎢0   0   0  0  0   0   0   0  0  0   0  0  1  0   0 ⎥\n",
       "⎢                                                   ⎥\n",
       "⎢0   0   0  0  0   0   0   0  0  0   0  0  0  -1  0 ⎥\n",
       "⎢                                                   ⎥\n",
       "⎣0   0   0  0  0   0   0   0  0  0   0  0  0  0   -1⎦"
      ]
     },
     "execution_count": 6,
     "metadata": {},
     "output_type": "execute_result"
    }
   ],
   "source": [
    "from redblackgraph.reference.triangularization import canonical_sort\n",
    "R_canonical = canonical_sort(R_star)\n",
    "M = sympy.Matrix(R_canonical.A)\n",
    "M"
   ]
  },
  {
   "cell_type": "code",
   "execution_count": 7,
   "metadata": {},
   "outputs": [
    {
     "data": {
      "text/plain": [
       "['0: D.R.-1963',\n",
       " '1: H.R.-1935',\n",
       " '2: D.S.-1935',\n",
       " '3: R.S.-1924',\n",
       " '4: E.R.-1912',\n",
       " '5: J.S.-1894',\n",
       " '6: M.R.-1880',\n",
       " '7: E.K.-1913',\n",
       " '8: M.T.-1912',\n",
       " '9: E.C.-1868',\n",
       " '10: M.K.-1846',\n",
       " '11: I.W.-1901',\n",
       " '12: A.W.-1882',\n",
       " '13: S.S.-1854',\n",
       " '14: G.R.-1842']"
      ]
     },
     "execution_count": 7,
     "metadata": {},
     "output_type": "execute_result"
    }
   ],
   "source": [
    "vertex_key = reader.get_vertex_key()\n",
    "row_labels = [f\"{idx}: {vertex_key[key][0]}.{vertex_key[key][1]}.-{vertex_key[key][2]}\" for idx, key in enumerate(R_canonical.label_permutation)]\n",
    "row_labels"
   ]
  },
  {
   "cell_type": "markdown",
   "metadata": {},
   "source": [
    "Let's look at the eigenvalues and eigenvectors for the cannonical form."
   ]
  },
  {
   "cell_type": "code",
   "execution_count": 8,
   "metadata": {},
   "outputs": [
    {
     "name": "stdout",
     "output_type": "stream",
     "text": [
      "Determinant: -1, Eigenvalues: {-1: 7, 1: 8}\n"
     ]
    },
    {
     "data": {
      "text/latex": [
       "$$\\left [ \\left ( -1, \\quad 7, \\quad \\left [ \\left[\\begin{matrix}1\\\\0\\\\0\\\\0\\\\0\\\\0\\\\0\\\\0\\\\0\\\\0\\\\0\\\\0\\\\0\\\\0\\\\0\\end{matrix}\\right], \\quad \\left[\\begin{matrix}0\\\\1\\\\0\\\\0\\\\0\\\\0\\\\0\\\\0\\\\0\\\\0\\\\0\\\\0\\\\0\\\\0\\\\0\\end{matrix}\\right]\\right ]\\right ), \\quad \\left ( 1, \\quad 8, \\quad \\left [ \\left[\\begin{matrix}0\\\\0\\\\1\\\\0\\\\0\\\\0\\\\0\\\\0\\\\0\\\\0\\\\0\\\\0\\\\0\\\\0\\\\0\\end{matrix}\\right], \\quad \\left[\\begin{matrix}\\frac{3}{2}\\\\0\\\\0\\\\1\\\\0\\\\0\\\\0\\\\0\\\\0\\\\0\\\\0\\\\0\\\\0\\\\0\\\\0\\end{matrix}\\right], \\quad \\left[\\begin{matrix}0\\\\\\frac{3}{2}\\\\0\\\\0\\\\0\\\\0\\\\0\\\\0\\\\1\\\\0\\\\0\\\\0\\\\0\\\\0\\\\0\\end{matrix}\\right], \\quad \\left[\\begin{matrix}\\frac{23}{2}\\\\\\frac{23}{2}\\\\0\\\\0\\\\4\\\\0\\\\\\frac{3}{2}\\\\0\\\\0\\\\0\\\\1\\\\0\\\\0\\\\0\\\\0\\end{matrix}\\right], \\quad \\left[\\begin{matrix}- \\frac{5}{8}\\\\0\\\\0\\\\0\\\\0\\\\- \\frac{9}{16}\\\\0\\\\1\\\\0\\\\- \\frac{3}{8}\\\\0\\\\1\\\\0\\\\0\\\\0\\end{matrix}\\right], \\quad \\left[\\begin{matrix}4\\\\4\\\\0\\\\0\\\\\\frac{3}{2}\\\\0\\\\0\\\\0\\\\0\\\\0\\\\0\\\\0\\\\1\\\\0\\\\0\\end{matrix}\\right]\\right ]\\right )\\right ]$$"
      ],
      "text/plain": [
       "⎡⎛       ⎡⎡1⎤  ⎡0⎤⎤⎞  ⎛      ⎡⎡0⎤  ⎡3/2⎤  ⎡ 0 ⎤  ⎡23/2⎤  ⎡-5/8 ⎤  ⎡ 4 ⎤⎤⎞⎤\n",
       "⎢⎜       ⎢⎢ ⎥  ⎢ ⎥⎥⎟  ⎜      ⎢⎢ ⎥  ⎢   ⎥  ⎢   ⎥  ⎢    ⎥  ⎢     ⎥  ⎢   ⎥⎥⎟⎥\n",
       "⎢⎜       ⎢⎢0⎥  ⎢1⎥⎥⎟  ⎜      ⎢⎢0⎥  ⎢ 0 ⎥  ⎢3/2⎥  ⎢23/2⎥  ⎢  0  ⎥  ⎢ 4 ⎥⎥⎟⎥\n",
       "⎢⎜       ⎢⎢ ⎥  ⎢ ⎥⎥⎟  ⎜      ⎢⎢ ⎥  ⎢   ⎥  ⎢   ⎥  ⎢    ⎥  ⎢     ⎥  ⎢   ⎥⎥⎟⎥\n",
       "⎢⎜       ⎢⎢0⎥  ⎢0⎥⎥⎟  ⎜      ⎢⎢1⎥  ⎢ 0 ⎥  ⎢ 0 ⎥  ⎢ 0  ⎥  ⎢  0  ⎥  ⎢ 0 ⎥⎥⎟⎥\n",
       "⎢⎜       ⎢⎢ ⎥  ⎢ ⎥⎥⎟  ⎜      ⎢⎢ ⎥  ⎢   ⎥  ⎢   ⎥  ⎢    ⎥  ⎢     ⎥  ⎢   ⎥⎥⎟⎥\n",
       "⎢⎜       ⎢⎢0⎥  ⎢0⎥⎥⎟  ⎜      ⎢⎢0⎥  ⎢ 1 ⎥  ⎢ 0 ⎥  ⎢ 0  ⎥  ⎢  0  ⎥  ⎢ 0 ⎥⎥⎟⎥\n",
       "⎢⎜       ⎢⎢ ⎥  ⎢ ⎥⎥⎟  ⎜      ⎢⎢ ⎥  ⎢   ⎥  ⎢   ⎥  ⎢    ⎥  ⎢     ⎥  ⎢   ⎥⎥⎟⎥\n",
       "⎢⎜       ⎢⎢0⎥  ⎢0⎥⎥⎟  ⎜      ⎢⎢0⎥  ⎢ 0 ⎥  ⎢ 0 ⎥  ⎢ 4  ⎥  ⎢  0  ⎥  ⎢3/2⎥⎥⎟⎥\n",
       "⎢⎜       ⎢⎢ ⎥  ⎢ ⎥⎥⎟  ⎜      ⎢⎢ ⎥  ⎢   ⎥  ⎢   ⎥  ⎢    ⎥  ⎢     ⎥  ⎢   ⎥⎥⎟⎥\n",
       "⎢⎜       ⎢⎢0⎥  ⎢0⎥⎥⎟  ⎜      ⎢⎢0⎥  ⎢ 0 ⎥  ⎢ 0 ⎥  ⎢ 0  ⎥  ⎢-9/16⎥  ⎢ 0 ⎥⎥⎟⎥\n",
       "⎢⎜       ⎢⎢ ⎥  ⎢ ⎥⎥⎟  ⎜      ⎢⎢ ⎥  ⎢   ⎥  ⎢   ⎥  ⎢    ⎥  ⎢     ⎥  ⎢   ⎥⎥⎟⎥\n",
       "⎢⎜       ⎢⎢0⎥  ⎢0⎥⎥⎟  ⎜      ⎢⎢0⎥  ⎢ 0 ⎥  ⎢ 0 ⎥  ⎢3/2 ⎥  ⎢  0  ⎥  ⎢ 0 ⎥⎥⎟⎥\n",
       "⎢⎜       ⎢⎢ ⎥  ⎢ ⎥⎥⎟  ⎜      ⎢⎢ ⎥  ⎢   ⎥  ⎢   ⎥  ⎢    ⎥  ⎢     ⎥  ⎢   ⎥⎥⎟⎥\n",
       "⎢⎜-1, 7, ⎢⎢0⎥, ⎢0⎥⎥⎟, ⎜1, 8, ⎢⎢0⎥, ⎢ 0 ⎥, ⎢ 0 ⎥, ⎢ 0  ⎥, ⎢  1  ⎥, ⎢ 0 ⎥⎥⎟⎥\n",
       "⎢⎜       ⎢⎢ ⎥  ⎢ ⎥⎥⎟  ⎜      ⎢⎢ ⎥  ⎢   ⎥  ⎢   ⎥  ⎢    ⎥  ⎢     ⎥  ⎢   ⎥⎥⎟⎥\n",
       "⎢⎜       ⎢⎢0⎥  ⎢0⎥⎥⎟  ⎜      ⎢⎢0⎥  ⎢ 0 ⎥  ⎢ 1 ⎥  ⎢ 0  ⎥  ⎢  0  ⎥  ⎢ 0 ⎥⎥⎟⎥\n",
       "⎢⎜       ⎢⎢ ⎥  ⎢ ⎥⎥⎟  ⎜      ⎢⎢ ⎥  ⎢   ⎥  ⎢   ⎥  ⎢    ⎥  ⎢     ⎥  ⎢   ⎥⎥⎟⎥\n",
       "⎢⎜       ⎢⎢0⎥  ⎢0⎥⎥⎟  ⎜      ⎢⎢0⎥  ⎢ 0 ⎥  ⎢ 0 ⎥  ⎢ 0  ⎥  ⎢-3/8 ⎥  ⎢ 0 ⎥⎥⎟⎥\n",
       "⎢⎜       ⎢⎢ ⎥  ⎢ ⎥⎥⎟  ⎜      ⎢⎢ ⎥  ⎢   ⎥  ⎢   ⎥  ⎢    ⎥  ⎢     ⎥  ⎢   ⎥⎥⎟⎥\n",
       "⎢⎜       ⎢⎢0⎥  ⎢0⎥⎥⎟  ⎜      ⎢⎢0⎥  ⎢ 0 ⎥  ⎢ 0 ⎥  ⎢ 1  ⎥  ⎢  0  ⎥  ⎢ 0 ⎥⎥⎟⎥\n",
       "⎢⎜       ⎢⎢ ⎥  ⎢ ⎥⎥⎟  ⎜      ⎢⎢ ⎥  ⎢   ⎥  ⎢   ⎥  ⎢    ⎥  ⎢     ⎥  ⎢   ⎥⎥⎟⎥\n",
       "⎢⎜       ⎢⎢0⎥  ⎢0⎥⎥⎟  ⎜      ⎢⎢0⎥  ⎢ 0 ⎥  ⎢ 0 ⎥  ⎢ 0  ⎥  ⎢  1  ⎥  ⎢ 0 ⎥⎥⎟⎥\n",
       "⎢⎜       ⎢⎢ ⎥  ⎢ ⎥⎥⎟  ⎜      ⎢⎢ ⎥  ⎢   ⎥  ⎢   ⎥  ⎢    ⎥  ⎢     ⎥  ⎢   ⎥⎥⎟⎥\n",
       "⎢⎜       ⎢⎢0⎥  ⎢0⎥⎥⎟  ⎜      ⎢⎢0⎥  ⎢ 0 ⎥  ⎢ 0 ⎥  ⎢ 0  ⎥  ⎢  0  ⎥  ⎢ 1 ⎥⎥⎟⎥\n",
       "⎢⎜       ⎢⎢ ⎥  ⎢ ⎥⎥⎟  ⎜      ⎢⎢ ⎥  ⎢   ⎥  ⎢   ⎥  ⎢    ⎥  ⎢     ⎥  ⎢   ⎥⎥⎟⎥\n",
       "⎢⎜       ⎢⎢0⎥  ⎢0⎥⎥⎟  ⎜      ⎢⎢0⎥  ⎢ 0 ⎥  ⎢ 0 ⎥  ⎢ 0  ⎥  ⎢  0  ⎥  ⎢ 0 ⎥⎥⎟⎥\n",
       "⎢⎜       ⎢⎢ ⎥  ⎢ ⎥⎥⎟  ⎜      ⎢⎢ ⎥  ⎢   ⎥  ⎢   ⎥  ⎢    ⎥  ⎢     ⎥  ⎢   ⎥⎥⎟⎥\n",
       "⎣⎝       ⎣⎣0⎦  ⎣0⎦⎦⎠  ⎝      ⎣⎣0⎦  ⎣ 0 ⎦  ⎣ 0 ⎦  ⎣ 0  ⎦  ⎣  0  ⎦  ⎣ 0 ⎦⎦⎠⎦"
      ]
     },
     "execution_count": 8,
     "metadata": {},
     "output_type": "execute_result"
    }
   ],
   "source": [
    "print(f\"Determinant: {M.det()}, Eigenvalues: {M.eigenvals()}\")\n",
    "M.eigenvects()"
   ]
  },
  {
   "cell_type": "markdown",
   "metadata": {},
   "source": [
    "**Observe**: As before those vertices without descendants show up as eigenvectors."
   ]
  }
 ],
 "metadata": {
  "kernelspec": {
   "display_name": "Python 3",
   "language": "python",
   "name": "python3"
  },
  "language_info": {
   "codemirror_mode": {
    "name": "ipython",
    "version": 3
   },
   "file_extension": ".py",
   "mimetype": "text/x-python",
   "name": "python",
   "nbconvert_exporter": "python",
   "pygments_lexer": "ipython3",
   "version": "3.6.7"
  }
 },
 "nbformat": 4,
 "nbformat_minor": 2
}
