{
 "cells": [
  {
   "cell_type": "markdown",
   "metadata": {},
   "source": [
    "# A Number of Experiements with My FamilyHistory\n",
    "\n",
    "I've created a several person/relationship files (see redblackgraph.io.relationship_file_io.py for format). \n",
    "* medium-tree.csv - has 15 people and is a single component\n",
    "* large-tree.csv - has 54 people and is two components\n",
    "\n",
    "The following magic command can be used to examine the files...\n",
    "%load -r 10 Rapp-FamilyHistory/large-tree.csv\n",
    "\n",
    "We'll start by including redblackgraph and sympy and setting some print optons"
   ]
  },
  {
   "cell_type": "code",
   "execution_count": null,
   "metadata": {},
   "outputs": [],
   "source": [
    "import numpy as np\n",
    "import redblackgraph as rb\n",
    "import sympy\n",
    "import numpy.linalg as LA\n",
    "import pandas as pd\n",
    "sympy.init_printing(use_unicode=True)\n",
    "pd.set_option('display.max_columns', 100)\n",
    "pd.set_option('display.width', 400)"
   ]
  },
  {
   "cell_type": "markdown",
   "metadata": {},
   "source": [
    "## Medium Tree\n",
    "The medium tree has enough data to be interesting (not trivial from visual inspection), but small enough to display some of the interesting properities in this notebook format. Let's load the tree, report the cardinality, determinant and eignevalues"
   ]
  },
  {
   "cell_type": "code",
   "execution_count": null,
   "metadata": {},
   "outputs": [],
   "source": [
    "reader = rb.RelationshipFileReader('Rapp-FamilyHistory/medium-tree.csv')\n",
    "R = reader()\n",
    "M = sympy.Matrix(R)\n",
    "print(f\"Cardinality: {R.cardinality()}, Determinant: {M.det()}, Eigenvalues: {M.eigenvals()}\")\n",
    "M"
   ]
  },
  {
   "cell_type": "markdown",
   "metadata": {},
   "source": [
    "**Observe**: The cardinality and eigenvalues are the same. \n",
    "\n",
    "Let's also inspect the eignevectors."
   ]
  },
  {
   "cell_type": "code",
   "execution_count": null,
   "metadata": {},
   "outputs": [],
   "source": [
    "M.eigenvects()"
   ]
  },
  {
   "cell_type": "markdown",
   "metadata": {},
   "source": [
    "**Observe**: Those columns that represent vertices in the graph with no descendents show up as eigenvectors.\n",
    "\n",
    "Now let's transitively close the graph and inspect the eigenvalues and eigenvectors again."
   ]
  },
  {
   "cell_type": "code",
   "execution_count": null,
   "metadata": {},
   "outputs": [],
   "source": [
    "closure = R.transitive_closure()\n",
    "R_star, diameter = closure.W, closure.diameter\n",
    "M = sympy.Matrix(R_star)\n",
    "print(f\"Diameter: {diameter}, Determinant: {M.det()}, Eigenvalues: {M.eigenvals()}\")\n",
    "M.eigenvects()"
   ]
  },
  {
   "cell_type": "markdown",
   "metadata": {},
   "source": [
    "Let's verify that this graph has a single connected component."
   ]
  },
  {
   "cell_type": "code",
   "execution_count": null,
   "metadata": {},
   "outputs": [],
   "source": [
    "from redblackgraph.reference.components import find_components\n",
    "u = find_components(R_star)\n",
    "df = pd.DataFrame(u).transpose()\n",
    "df"
   ]
  },
  {
   "cell_type": "markdown",
   "metadata": {},
   "source": [
    "Now, let's get the canonical form of the graph and examine which nodes went where."
   ]
  },
  {
   "cell_type": "code",
   "execution_count": null,
   "metadata": {},
   "outputs": [],
   "source": [
    "from redblackgraph.reference.triangularization import canonical_sort\n",
    "R_canonical = canonical_sort(R_star)\n",
    "M = sympy.Matrix(R_canonical.A)\n",
    "M"
   ]
  },
  {
   "cell_type": "code",
   "execution_count": null,
   "metadata": {},
   "outputs": [],
   "source": [
    "vertex_key = reader.get_vertex_key()\n",
    "row_labels = [f\"{idx}: {vertex_key[key][0]}.{vertex_key[key][1]}.-{vertex_key[key][2]}\" for idx, key in enumerate(R_canonical.label_permutation)]\n",
    "row_labels"
   ]
  },
  {
   "cell_type": "markdown",
   "metadata": {},
   "source": [
    "Let's look at the eigenvalues and eigenvectors for the cannonical form."
   ]
  },
  {
   "cell_type": "code",
   "execution_count": null,
   "metadata": {},
   "outputs": [],
   "source": [
    "print(f\"Determinant: {M.det()}, Eigenvalues: {M.eigenvals()}\")\n",
    "M.eigenvects()"
   ]
  },
  {
   "cell_type": "markdown",
   "metadata": {},
   "source": [
    "**Observe**: As before those vertices without descendants show up as eigenvectors."
   ]
  }
 ],
 "metadata": {
  "language_info": {
   "name": "python",
   "pygments_lexer": "ipython3"
  }
 },
 "nbformat": 4,
 "nbformat_minor": 2
}
