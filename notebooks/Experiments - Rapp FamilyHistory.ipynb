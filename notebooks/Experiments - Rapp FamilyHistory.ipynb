{
 "cells": [
  {
   "cell_type": "markdown",
   "metadata": {},
   "source": [
    "# A Number of Experiements with My FamilyHistory\n",
    "\n",
    "I've created a person realtionship input file (see redblackgraph.io.relationship_file_io.py for format). \n",
    "\n",
    "%load -r 10 Rapp-FamilyHistory/person-relationship.csv"
   ]
  },
  {
   "cell_type": "code",
   "execution_count": null,
   "metadata": {},
   "outputs": [],
   "source": [
    "# %load -r 1-10 Rapp-FamilyHistory/person-relationship.csv\n",
    "#Vertex,,,,Red,,,Black,,\n",
    "#Fn,Ln,By,g,Fn,Ln,By,Fn,Ln,By\n",
    "D,R,1963,-1,E,R,1912,R,S,1924\n",
    "E,R,1912,-1,M,R,1880,A,W,1882\n",
    "R,S,1924,1,J,S,1894,I,W,1901\n",
    "M,R,1880,-1,G,R,1842,M,K,1846\n",
    "A,W,1882,1,S,W,1850,L,J,1850\n",
    "J,S,1894,-1,S,S,1854,E,C,1868\n",
    "I,W,1901,1,J,W,1857,S,R,1873\n",
    "M,R,1964,1,E,R,1912,R,S,1924"
   ]
  },
  {
   "cell_type": "code",
   "execution_count": 1,
   "metadata": {},
   "outputs": [],
   "source": [
    "import redblackgraph as rb\n",
    "import numpy as np\n",
    "np.set_printoptions(edgeitems=11)"
   ]
  },
  {
   "cell_type": "code",
   "execution_count": 2,
   "metadata": {},
   "outputs": [
    {
     "name": "stdout",
     "output_type": "stream",
     "text": [
      "[[-1  2  3  0  0  0  0  0  0  0  0 ...,  0  0  0  0  0  0  0  0  0  0  0]\n",
      " [ 0 -1  0  2  3  0  0  0  0  0  0 ...,  0  0  0  0  0  0  0  0  0  0  0]\n",
      " [ 0  0  1  0  0  2  3  0  0  0  0 ...,  0  0  0  0  0  0  0  0  0  0  0]\n",
      " [ 0  0  0 -1  0  0  0  2  3  0  0 ...,  0  0  0  0  0  0  0  0  0  0  0]\n",
      " [ 0  0  0  0  1  0  0  0  0  2  3 ...,  0  0  0  0  0  0  0  0  0  0  0]\n",
      " [ 0  0  0  0  0 -1  0  0  0  0  0 ...,  0  0  0  0  0  0  0  0  0  0  0]\n",
      " [ 0  0  0  0  0  0  1  0  0  0  0 ...,  0  0  0  0  0  0  0  0  0  0  0]\n",
      " [ 0  0  0  0  0  0  0 -1  0  0  0 ...,  0  0  0  0  0  0  0  0  0  0  0]\n",
      " [ 0  0  0  0  0  0  0  0  1  0  0 ...,  0  0  0  0  0  0  0  0  0  0  0]\n",
      " [ 0  0  0  0  0  0  0  0  0 -1  0 ...,  0  0  0  0  0  0  0  0  0  0  0]\n",
      " [ 0  0  0  0  0  0  0  0  0  0  1 ...,  0  0  0  0  0  0  0  0  0  0  0]\n",
      " ..., \n",
      " [ 0  0  0  0  0  0  0  0  0  0  0 ..., -1  0  0  0  2  3  0  0  0  0  0]\n",
      " [ 0  0  0  0  0  0  0  0  0  0  0 ...,  0  1  0  0  0  0  2  3  0  0  0]\n",
      " [ 0  0  0  0  0  0  0  0  0  0  0 ...,  0  0 -1  0  0  0  0  0  0  0  0]\n",
      " [ 0  0  0  0  0  0  0  0  0  0  0 ...,  0  0  0  1  0  0  0  0  3  0  0]\n",
      " [ 0  0  0  0  0  0  0  0  0  0  0 ...,  0  0  0  0 -1  0  0  0  0  0  0]\n",
      " [ 0  0  0  0  0  0  0  0  0  0  0 ...,  0  0  0  0  0  1  0  0  0  0  0]\n",
      " [ 0  0  0  0  0  0  0  0  0  0  0 ...,  0  0  0  0  0  0 -1  0  0  0  0]\n",
      " [ 0  0  0  0  0  0  0  0  0  0  0 ...,  0  0  0  0  0  0  0  1  0  0  0]\n",
      " [ 0  0  0  0  0  0  0  0  0  0  0 ...,  0  0  0  0  0  0  0  0  1  0  0]\n",
      " [ 0  0  0  0  0  0  0  0  0  0  0 ...,  0  0  0  0  0  0  0  0  0  1  0]\n",
      " [ 0  0  0  0  0  0  0  0  0  0  0 ...,  0  0  0  0  0  0  0  0  0  0  1]]\n"
     ]
    }
   ],
   "source": [
    "reader = rb.RelationshipFileReader('Rapp-FamilyHistory/person-relationship.csv')\n",
    "R = reader()\n",
    "writer = rb.RedBlackGraphWriter(reader.get_vertex_key())\n",
    "writer(R, output_file=\"Rapp-FamilyHistory/r.xlsx\")\n",
    "print(R)"
   ]
  },
  {
   "cell_type": "code",
   "execution_count": 3,
   "metadata": {},
   "outputs": [
    {
     "name": "stdout",
     "output_type": "stream",
     "text": [
      "[[-1  2  3  4  5  6  7  8  9 10 11 ...,  0  0  0  0  0  0  0  0  0  0  0]\n",
      " [ 0 -1  0  2  3  0  0  4  5  6  7 ...,  0  0  0  0  0  0  0  0  0  0  0]\n",
      " [ 0  0  1  0  0  2  3  0  0  0  0 ...,  0  0  0  0  0  0  0  0  0  0  0]\n",
      " [ 0  0  0 -1  0  0  0  2  3  0  0 ...,  0  0  0  0  0  0  0  0  0  0  0]\n",
      " [ 0  0  0  0  1  0  0  0  0  2  3 ...,  0  0  0  0  0  0  0  0  0  0  0]\n",
      " [ 0  0  0  0  0 -1  0  0  0  0  0 ...,  0  0  0  0  0  0  0  0  0  0  0]\n",
      " [ 0  0  0  0  0  0  1  0  0  0  0 ...,  0  0  0  0  0  0  0  0  0  0  0]\n",
      " [ 0  0  0  0  0  0  0 -1  0  0  0 ...,  0  0  0  0  0  0  0  0  0  0  0]\n",
      " [ 0  0  0  0  0  0  0  0  1  0  0 ...,  0  0  0  0  0  0  0  0  0  0  0]\n",
      " [ 0  0  0  0  0  0  0  0  0 -1  0 ...,  0  0  0  0  0  0  0  0  0  0  0]\n",
      " [ 0  0  0  0  0  0  0  0  0  0  1 ...,  0  0  0  0  0  0  0  0  0  0  0]\n",
      " ..., \n",
      " [ 0  0  0  0  0  0  0  0  0  0  0 ..., -1  0  0  0  2  3  0  0  0  0  0]\n",
      " [ 0  0  0  0  0  0  0  0  0  0  0 ...,  0  1  0  0  0  0  2  3  0  0  0]\n",
      " [ 0  0  0  0  0  0  0  0  0  0  0 ...,  0  0 -1  0  0  0  0  0  0  0  0]\n",
      " [ 0  0  0  0  0  0  0  0  0  0  0 ...,  0  0  0  1  0  0  0  0  3  0  0]\n",
      " [ 0  0  0  0  0  0  0  0  0  0  0 ...,  0  0  0  0 -1  0  0  0  0  0  0]\n",
      " [ 0  0  0  0  0  0  0  0  0  0  0 ...,  0  0  0  0  0  1  0  0  0  0  0]\n",
      " [ 0  0  0  0  0  0  0  0  0  0  0 ...,  0  0  0  0  0  0 -1  0  0  0  0]\n",
      " [ 0  0  0  0  0  0  0  0  0  0  0 ...,  0  0  0  0  0  0  0  1  0  0  0]\n",
      " [ 0  0  0  0  0  0  0  0  0  0  0 ...,  0  0  0  0  0  0  0  0  1  0  0]\n",
      " [ 0  0  0  0  0  0  0  0  0  0  0 ...,  4  5  6  7  8  9 10 11 15  1  0]\n",
      " [ 0  0  0  0  0  0  0  0  0  0  0 ...,  4  5  0  0  8  9 10 11  0  0  1]]\n",
      "Diameter: 5\n",
      "Cardinality: {'red': 28, 'black': 27}\n"
     ]
    }
   ],
   "source": [
    "R_star, diameter = R.transitive_closure()\n",
    "cardinality = R.cardinality()\n",
    "writer(R_star, output_file=\"Rapp-FamilyHistory/closure.results.xlsx\")\n",
    "print(R_star)\n",
    "print(f\"Diameter: {diameter}\\nCardinality: {cardinality}\")"
   ]
  },
  {
   "cell_type": "code",
   "execution_count": 4,
   "metadata": {},
   "outputs": [
    {
     "name": "stdout",
     "output_type": "stream",
     "text": [
      "[1 1 1 1 1 1 1 1 1 1 1 1 1 1 1 1 1 1 1 1 1 1 1 1 1 1 2 2 2 2 2 2 2 2 2 2 2\n",
      " 2 2 2 1 1 1 1 2 2 2 2 2 2 2 2 2 2 2]\n"
     ]
    }
   ],
   "source": [
    "u = R_star.find_components()\n",
    "print(u)"
   ]
  },
  {
   "cell_type": "code",
   "execution_count": 5,
   "metadata": {},
   "outputs": [
    {
     "name": "stdout",
     "output_type": "stream",
     "text": [
      "[[-1  2  3  4  5  6  7  8  9 10 11 ...,  0  0  0  0  0  0  0  0  0  0  0]\n",
      " [ 0 -1  0  2  3  0  0  4  5  6  7 ...,  0  0  0  0  0  0  0  0  0  0  0]\n",
      " [ 0  0  1  0  0  2  3  0  0  0  0 ...,  0  0  0  0  0  0  0  0  0  0  0]\n",
      " [ 0  0  0 -1  0  0  0  2  3  0  0 ...,  0  0  0  0  0  0  0  0  0  0  0]\n",
      " [ 0  0  0  0  1  0  0  0  0  2  3 ...,  0  0  0  0  0  0  0  0  0  0  0]\n",
      " [ 0  0  0  0  0 -1  0  0  0  0  0 ...,  0  0  0  0  0  0  0  0  0  0  0]\n",
      " [ 0  0  0  0  0  0  1  0  0  0  0 ...,  0  0  0  0  0  0  0  0  0  0  0]\n",
      " [ 0  0  0  0  0  0  0 -1  0  0  0 ...,  0  0  0  0  0  0  0  0  0  0  0]\n",
      " [ 0  0  0  0  0  0  0  0  1  0  0 ...,  0  0  0  0  0  0  0  0  0  0  0]\n",
      " [ 0  0  0  0  0  0  0  0  0 -1  0 ...,  0  0  0  0  0  0  0  0  0  0  0]\n",
      " [ 0  0  0  0  0  0  0  0  0  0  1 ...,  0  0  0  0  0  0  0  0  0  0  0]\n",
      " ..., \n",
      " [ 0  0  0  0  0  0  0  0  0  0  0 ...,  1  0  0  0  0  2  3  0  0  0  0]\n",
      " [ 0  0  0  0  0  0  0  0  0  0  0 ...,  0 -1  0  0  0  0  0  0  0  0  0]\n",
      " [ 0  0  0  0  0  0  0  0  0  0  0 ...,  0  0  1  0  0  0  0  3  0  0  0]\n",
      " [ 0  0  0  0  0  0  0  0  0  0  0 ...,  0  0  0 -1  0  0  0  0  0  0  0]\n",
      " [ 0  0  0  0  0  0  0  0  0  0  0 ...,  0  0  0  0  1  0  0  0  0  0  0]\n",
      " [ 0  0  0  0  0  0  0  0  0  0  0 ...,  0  0  0  0  0 -1  0  0  0  0  0]\n",
      " [ 0  0  0  0  0  0  0  0  0  0  0 ...,  0  0  0  0  0  0  1  0  0  0  0]\n",
      " [ 0  0  0  0  0  0  0  0  0  0  0 ...,  0  0  0  0  0  0  0  1  0  0  0]\n",
      " [ 0  0  0  0  0  0  0  0  0  0  0 ...,  5  6  7  8  9 10 11 15  1  0  0]\n",
      " [ 0  0  0  0  0  0  0  0  0  0  0 ...,  5  0  0  8  9 10 11  0  0  1  0]\n",
      " [ 2  4  5  8  9 10 11 16 17 18 19 ..., 13 14 15 24 25 26 27 31  0  0  1]]\n"
     ]
    }
   ],
   "source": [
    "u = np.zeros((R.shape[0],), dtype=np.int32).view(rb.array)\n",
    "u[reader.get_person_id(('D', 'R', '1963'))] = 2\n",
    "u[reader.get_person_id(('B', 'V', '1960'))] = 3\n",
    "v = np.zeros((R.shape[0],), dtype=np.int32).view(rb.array)\n",
    "writer.append_vertex_key(('B', 'M-R', '2001'))\n",
    "\n",
    "R_lambda = R_star.vertex_relational_composition(u, v, 1)\n",
    "writer(R_lambda, output_file=\"Rapp-FamilyHistory/composition.results.xlsx\")\n",
    "print(R_lambda)"
   ]
  },
  {
   "cell_type": "code",
   "execution_count": 6,
   "metadata": {},
   "outputs": [
    {
     "name": "stdout",
     "output_type": "stream",
     "text": [
      "[2 2 2 2 2 2 2 2 2 2 2 2 2 2 2 2 2 2 2 2 2 2 2 2 2 2 2 2 2 2 2 2 2 2 2 2 2\n",
      " 2 2 2 2 2 2 2 2 2 2 2 2 2 2 2 2 2 2 2]\n"
     ]
    }
   ],
   "source": [
    "u = R_lambda.find_components()\n",
    "print(u)"
   ]
  },
  {
   "cell_type": "code",
   "execution_count": 8,
   "metadata": {},
   "outputs": [
    {
     "name": "stdout",
     "output_type": "stream",
     "text": [
      "[[ 1  0  0  0  0  0  0  3  0  0  0 ...,  0  0 58 56 30  2  6  0  0  0  0]\n",
      " [ 0 -1  0  0  0  0  0  3  0  0  0 ...,  0  0 58 56 30  2  6  0  0  0  0]\n",
      " [ 0  0  1  0  0  0  2  0  0  0  0 ...,  0  0 42 40 22  0  4  0  0  0  0]\n",
      " [ 0  0  0 -1  0  0  2  0  0  0  0 ...,  0  0 42 40 22  0  4  0  0  0  0]\n",
      " [ 0  0  0  0  1  0  0  0  0  0  0 ..., 19 17 26 24 14  0  0 22 20 18 16]\n",
      " [ 0  0  0  0  0 -1  0  0  0  0  0 ...,  0  0 26 24 14  0  2  0  0  0  0]\n",
      " [ 0  0  0  0  0  0 -1  0  0  0  0 ...,  0  0 26 24 14  0  2  0  0  0  0]\n",
      " [ 0  0  0  0  0  0  0  1  0  0  0 ...,  0  0 26 24 14  0  2  0  0  0  0]\n",
      " [ 0  0  0  0  0  0  0  0 -1  0  0 ...,  0  0 26 24 14  0  2  0  0  0  0]\n",
      " [ 0  0  0  0  0  0  0  0  0 -1  0 ..., 19 17  0  0  0  0  0 22 20 18 16]\n",
      " [ 0  0  0  0  0  0  0  0  0  0  1 ..., 19 17  0  0  0  0  0 22 20 18 16]\n",
      " ..., \n",
      " [ 0  0  0  0  0  0  0  0  0  0  0 ...,  1  0  0  0  0  0  0  0  0  0  0]\n",
      " [ 0  0  0  0  0  0  0  0  0  0  0 ...,  0  1  0  0  0  0  0  0  0  0  0]\n",
      " [ 0  0  0  0  0  0  0  0  0  0  0 ...,  0  0 -1  0  0  0  0  0  0  0  0]\n",
      " [ 0  0  0  0  0  0  0  0  0  0  0 ...,  0  0  0 -1  0  0  0  0  0  0  0]\n",
      " [ 0  0  0  0  0  0  0  0  0  0  0 ...,  0  0  0  0 -1  0  0  0  0  0  0]\n",
      " [ 0  0  0  0  0  0  0  0  0  0  0 ...,  0  0  0  0  0 -1  0  0  0  0  0]\n",
      " [ 0  0  0  0  0  0  0  0  0  0  0 ...,  0  0  0  0  0  0 -1  0  0  0  0]\n",
      " [ 0  0  0  0  0  0  0  0  0  0  0 ...,  0  0  0  0  0  0  0 -1  0  0  0]\n",
      " [ 0  0  0  0  0  0  0  0  0  0  0 ...,  0  0  0  0  0  0  0  0 -1  0  0]\n",
      " [ 0  0  0  0  0  0  0  0  0  0  0 ...,  0  0  0  0  0  0  0  0  0 -1  0]\n",
      " [ 0  0  0  0  0  0  0  0  0  0  0 ...,  0  0  0  0  0  0  0  0  0  0 -1]]\n"
     ]
    }
   ],
   "source": [
    "P = R_lambda.get_triangularization_permutation_matrices()\n",
    "R_canonical = R_lambda.triangularize(P)\n",
    "\n",
    "key_transpose = P[1] @ np.arange(R_lambda.shape[0])\n",
    "\n",
    "writer(R_canonical, output_file=\"Rapp-FamilyHistory/canonical.results.xlsx\", key_transpose=key_transpose)\n",
    "print(R_canonical)"
   ]
  },
  {
   "cell_type": "code",
   "execution_count": null,
   "metadata": {},
   "outputs": [],
   "source": []
  }
 ],
 "metadata": {
  "hide_input": false,
  "kernelspec": {
   "display_name": "Python 3",
   "language": "python",
   "name": "python3"
  },
  "language_info": {
   "codemirror_mode": {
    "name": "ipython",
    "version": 3
   },
   "file_extension": ".py",
   "mimetype": "text/x-python",
   "name": "python",
   "nbconvert_exporter": "python",
   "pygments_lexer": "ipython3",
   "version": "3.6.3"
  }
 },
 "nbformat": 4,
 "nbformat_minor": 2
}
