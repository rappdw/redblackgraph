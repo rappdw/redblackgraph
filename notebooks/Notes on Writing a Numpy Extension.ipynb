{
 "cells": [
  {
   "cell_type": "markdown",
   "metadata": {},
   "source": [
    "# Introduction\n",
    "\n",
    "Writing a Numpy extension was undertaken for several purposes including: speeding up the simple python implementation, understanding Numpy internals better (as I use this in my day job), and simply learning. This notebook documents a number of things to be aware of that I haven't been able to find in a concise location or tutorial\n",
    "\n",
    "## Start with setup.py\n",
    "\n",
    "Unless you are going to do a drop-dead simple implementation including supporting a single Numpy dtype, the very first thing you'll want to do is to conform to the Numpy setup conventions. Admittedly, I simply copied the setup.py from a clone of the Numpy repository and sliced and stitched to satisfy my needs. The germain portions really are defining the extension configurations as seen in the following snippet."
   ]
  },
  {
   "cell_type": "code",
   "execution_count": null,
   "metadata": {},
   "outputs": [],
   "source": [
    "def configuration(parent_package='', top_path=None):\n",
    "    from numpy.distutils.misc_util import Configuration\n",
    "\n",
    "    config = Configuration('redblackgraph',\n",
    "                           parent_package,\n",
    "                           top_path)\n",
    "    config.add_extension('rb_multiarray',\n",
    "                         [\n",
    "                             'redblackgraph/core/src/multiarray/rbg_math.h.src',\n",
    "                             'redblackgraph/core/src/multiarray/rbg_math.c.src',\n",
    "                             'redblackgraph/core/src/multiarray/redblack.c.src',\n",
    "                             'redblackgraph/core/src/multiarray/relational_composition.c.src',\n",
    "                             'redblackgraph/core/src/multiarray/warshall.c.src'\n",
    "                         ],\n",
    "                         include_dirs=['redblackgraph/core/src/multiarray'])\n"
   ]
  },
  {
   "cell_type": "markdown",
   "metadata": {},
   "source": [
    "This configuration function is then set as the `configuration` parameter of the metadata passed into `numpy.distutils.core.setup`.\n",
    "\n",
    "## conv_template.py\n",
    "\n",
    "Please note the source designations of `filename.c.src` and `filename.h.src`. These are handled specially by Numpy's distutils extensions. Run `python setup.py build -v` and observe the following output:\n",
    "\n",
    "```\n",
    "running build\n",
    "...\n",
    "build_src\n",
    "building extension \"redblackgraph.rb_multiarray\" sources\n",
    "...\n",
    "creating build/src.macosx-10.6-intel-3.6/redblackgraph/core/src/multiarray\n",
    "...\n",
    "conv_template:> build/src.macosx-10.6-intel-3.6/redblackgraph/core/src/multiarray/redblack.c [1]\n",
    "...\n",
    "running build_ext\n",
    "...\n",
    "creating build/temp.macosx-10.6-intel-3.6/build/src.macosx-10.6-intel-3.6/redblackgraph/core/src/multiarray\n",
    "...\n",
    "clang: build/src.macosx-10.6-intel-3.6/redblackgraph/core/src/multiarray/redblack.c\n",
    "...\n",
    "creating build/lib.macosx-10.6-intel-3.6/redblackgraph\n",
    "/usr/bin/clang ... -o build/lib.macosx-10.6-intel-3.6/redblackgraph/rb_multiarray.cpython-36m-darwin.so\n",
    "```\n",
    "\n",
    "The line marked **\\[1\\]** shows a numpy utility, `numpy.distutils.conv_template` being invoked to convert the `redblack.c.src` file into `redblack.c` in the `build/src` directory tree. \n",
    "\n",
    "conv_template is a Numpy utility that provides rudimentary templating support in the spirit of C++ templates. Aside from the file's docstring, there really isn't any other documentation. \n",
    "\n",
    "Bottom line is that any source files designated in `config.add_extension` ending in `.src` will be run through the template expansion prior to the compilation stage. The generate files will be used (from the `build/src` directory) rather than the source files specified in `config.add_extension`."
   ]
  },
  {
   "cell_type": "code",
   "execution_count": null,
   "metadata": {},
   "outputs": [],
   "source": []
  }
 ],
 "metadata": {
  "language_info": {
   "name": "python",
   "pygments_lexer": "ipython3"
  }
 },
 "nbformat": 4,
 "nbformat_minor": 2
}
