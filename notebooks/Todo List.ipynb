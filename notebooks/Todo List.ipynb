{
 "cells": [
  {
   "cell_type": "markdown",
   "metadata": {},
   "source": [
    "# Things to consider / work on\n",
    "\n",
    "## find components and triangularization\n",
    "1. Add a simple implementation to rb.array/matrix\n",
    "2. Add C implementation\n",
    "3. It seems that find_components does not need A to be transitively closed, while find_components_extended does.\n",
    "\n",
    "## Refactor relationship_file_io\n",
    "1. Create a scripts directory and add the main that is currently in relationship_file_io into a script\n",
    "2. Document input csv format\n",
    "\n",
    "## Sparse implementation\n",
    "I actually started with the sparse implementation and it shows much of my early thinking on avos linear algebra. However, the avos function has changed somewhat as have Red Black Graphs. The sparse implementation used 0's and 1's along the diagnoal to represent color. This required special casing of a lot of the math. Moving to -1's and 1's keep all special casing in the identity property of avos scalar multiplication.\n",
    "\n",
    "## Illustrative examples\n",
    "The appendix starts to use some illustrive examples from my family history. I think the read out of the RB Adjacency Matrix requires better explanation as well as concrete examples.\n"
   ]
  },
  {
   "cell_type": "code",
   "execution_count": null,
   "metadata": {},
   "outputs": [],
   "source": []
  }
 ],
 "metadata": {
  "language_info": {
   "name": "python",
   "pygments_lexer": "ipython3"
  }
 },
 "nbformat": 4,
 "nbformat_minor": 2
}
