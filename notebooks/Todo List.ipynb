{
 "cells": [
  {
   "cell_type": "markdown",
   "metadata": {},
   "source": [
    "# Things to consider / work on\n",
    "\n",
    "## gufunc implementation find components\n",
    "Add C implementation of find components.\n",
    "\n",
    "## Sparse implementation\n",
    "I actually started with the sparse implementation and it shows much of my early thinking on avos linear algebra. However, the avos function has changed somewhat as have Red Black Graphs. The sparse implementation used 0's and 1's along the diagnoal to represent color. This required special casing of a lot of the math. Moving to -1's and 1's keep all special casing in the identity property of avos scalar multiplication.\n",
    "\n",
    "## Illustrative examples\n",
    "The appendix starts to use some illustrive examples from my family history. I think the read out of the RB Adjacency Matrix requires better explanation as well as concrete examples.\n"
   ]
  },
  {
   "cell_type": "code",
   "execution_count": null,
   "metadata": {},
   "outputs": [],
   "source": []
  }
 ],
 "metadata": {
  "hide_input": false,
  "kernelspec": {
   "display_name": "Python 3",
   "language": "python",
   "name": "python3"
  },
  "language_info": {
   "codemirror_mode": {
    "name": "ipython",
    "version": 3
   },
   "file_extension": ".py",
   "mimetype": "text/x-python",
   "name": "python",
   "nbconvert_exporter": "python",
   "pygments_lexer": "ipython3",
   "version": "3.6.3"
  }
 },
 "nbformat": 4,
 "nbformat_minor": 2
}
