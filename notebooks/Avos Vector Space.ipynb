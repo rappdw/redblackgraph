{
 "cells": [
  {
   "cell_type": "code",
   "execution_count": null,
   "metadata": {},
   "outputs": [],
   "source": [
    "import pandas as pd\n",
    "from redblackgraph.reference.avos import avos_sum, avos_product\n",
    "labels = [-1,0,1,2,3,4,5,6,7,8,9]"
   ]
  },
  {
   "cell_type": "markdown",
   "metadata": {},
   "source": [
    "# Avos Vector Spaces\n",
    "\n",
    "I'll expolre a novel extension of linear algebra that results in a vector space designated an Avos vector space. I'll outline the mathematical basis for this vector space as well as an interesting application in modeling the relationships that emerge from sexual reproduction.\n",
    "\n",
    "## Vector Spaces\n",
    "Recall that the following axioms must be satisfied for any abstract vector space\n",
    "\n",
    "1. Associativity of Vector Addition: $\\vec{u} + (\\vec{v} + \\vec{w}) = (\\vec{u} + \\vec{v}) + \\vec{w}$\n",
    "2. Commutativity of Vector Addition: $\\vec{u} + \\vec{v} = \\vec{v} + \\vec{u}$\n",
    "3. Identity element of Vector Addition: There exists an element $\\vec{0} \\in V$ such that $\\vec{v} + \\vec{0} = \\vec{v}$ for all ${\\vec{v} \\in V}$\n",
    "4. Inverse elements of addition: For every ${\\vec{v} \\in V}$, there exists an element $-{\\vec{v} \\in V}$ such that ${\\vec{v} + (-\\vec{v}) = \\vec{0}}$\n",
    "5. Compatibility of scalar multiplication with field multiplication: $a(b\\vec{v}) = (ab)\\vec{v}$\n",
    "6. Identity element of scalar multiplication: $1\\vec{v} = \\vec{v}$\n",
    "7. Distributivity of scalar multiplication with respect to vector addition: $a(\\vec{u} + \\vec{v}) = a\\vec{u} + a\\vec{v}$\n",
    "8. Distributivity of scalar multiplication with respect to field addition: $(a + b)\\vec{v} = a\\vec{v} + b\\vec{v}$\n",
    "\n",
    "The **Avos Vector Space** is a vector space over integers and is a novel extension of linear algebra that redefines the addition and multiplication operators. \n",
    "\n",
    "### Scalar Addition\n",
    "Conceptually, scalar addition in an Avos vector space is a *non-zero minimum* operator. Formally, scalar addition is defined as:\n",
    "$$a + b = \\begin{cases}\n",
    "        b, & \\text{if }a==0,\\\\\n",
    "        a, & \\text{if }b==0,\\\\\n",
    "        0, & \\text{if }a==-b,\\\\\n",
    "        min(a, b), & \\text{otherwise}\n",
    "\\end{cases}$$"
   ]
  },
  {
   "cell_type": "code",
   "execution_count": null,
   "metadata": {},
   "outputs": [],
   "source": [
    "pd.DataFrame(data=( [ [avos_sum(i, j) for j in range(-1, 10)] for i in range(-1, 10)] ), index=labels, columns=labels)"
   ]
  },
  {
   "cell_type": "markdown",
   "metadata": {},
   "source": [
    "## Scalar Multiplication\n",
    "For positive integers, the result of scalar multiplication is given by representing operating on the binary representation of each operand. The result is achieved by replacing the leftmost significant bit of the RHS operand with the value of the LHS operand (assuming infinate padding of zeros on the left overflow conditions are left as an engineering exercise). This will be referred to as the **avos scalar product** and symbolically represented by $\\lor$, e.g. $5 \\lor 2 = 10$. Note that while the avos scalar product is associative, it is not commutative.\n",
    "\n",
    "$$a \\lor b = \\begin{cases}\n",
    "        a \\lor b, & \\text{if }a>1\\text{ and }b>1,\\\\\n",
    "        -(a \\lor b), & \\text{if }a<-1\\text{ and }b<-1,\\\\\n",
    "        0, & \\text{if }a=0\\text{ or }b=0,\\\\\n",
    "        min(a, b), & \\text{otherwise}\n",
    "\\end{cases}$$\n",
    "\n",
    "For negative integers, the avos scalar product is defined as: $$-a \\lor -b = -(a \\lor b)$$\n",
    "\n",
    "A definition of mixed sign operands will be deferred."
   ]
  },
  {
   "cell_type": "code",
   "execution_count": null,
   "metadata": {},
   "outputs": [],
   "source": [
    "pd.DataFrame(data=( [ [avos_product(i, j) for j in range(-1, 10)] for i in range(-1, 10)] ), index=labels, columns=labels)"
   ]
  },
  {
   "cell_type": "markdown",
   "metadata": {},
   "source": [
    "## Vector Addition\n",
    "Before formally defining vector addition, consider the example motivating this. Each vector (assuming a row vector here) represents a person and their complete ancestry. As such it is easy to imagine that vector addition represents one of two cases:\n",
    "1. The resulting ancestry for the offspring of $\\vec{\\alpha}$ and $\\vec{\\beta}$\n",
    "2. The resulting ancestry of adding $\\vec{\\beta}$ as an immediate ancester (or distant ancester for that matter) of $\\vec{\\alpha}$\n",
    "\n",
    "Furthermore, recall that each vector will either be *red* (has one and only one element with value of $-1$) or *black* (has one and only one element with value of $1$). I designate this the \"self element\" and use $v_s$ to notationally represent the self element for a given vector $\\vec{v}$. Finally, $u_{s_v}$, represents the element in $\\vec{u}$ that is the \"self element\" in $\\vec{v}$.\n",
    "\n",
    "### Vector Addition for Impossible Cases\n",
    "There are cases that represent a temporal (I can't be my own Grandpa) or biological (offspring requires one parent of each gender) impossiblity. These cases are defined to result in $\\vec{0}$.\n",
    "\n",
    "### Vector Cross Product $\\implies$ Offspring\n",
    "The cross product of two vectors results in a new vector (with an additional dimension, orthoganal to the basis vectors of the operands). With the constraints of $\\alpha_{s_\\beta} == 0 \\land \\beta_{s_\\alpha} == 0 \\land \\alpha_s \\neq \\beta_s$, the Avos cross product is defined as: $$\\vec{\\alpha} \\times \\vec{\\beta} = 2\\vec{\\alpha} + 3\\vec{\\beta}$$ with the orthoganal new dimension being $1$ if offspring is female and $-1$ if male.\n",
    "\n",
    "### Vector Addition $\\implies$ Add Relationship\n",
    "This form of addition imposses the constraint: $\\alpha_{s_\\beta} == 0 \\land \\beta_{s_\\alpha} == 0$. Arbitrarily selecting $\\vec{\\alpha}$ as the source of the relationship and $\\vec{\\beta}$ as the target of the relationship.\n",
    "\n",
    "$$\\vec{\\alpha} + \\vec{\\beta} = \\begin{cases}\n",
    "        \\vec{\\alpha} + 2\\vec{\\beta}, & \\text{if }\\vec{\\beta}\\text{ is red},\\\\\n",
    "        \\vec{\\alpha} + 3\\vec{\\beta}, & \\text{if }\\vec{\\beta}\\text{ is black}\n",
    "\\end{cases}$$\n",
    "\n",
    "where $+$ on the left hand side is vector addition and $+$ on the right hand side is element-wise scalar addtion.\n"
   ]
  },
  {
   "cell_type": "markdown",
   "metadata": {},
   "source": [
    "# Notes from Gilbert Strang's Lectures\n",
    "\n",
    "## Rank and Solutions\n",
    "* $rank = m = n \\implies rref(R) = I \\implies$ 1 solution.\n",
    "* $rank = n < m \\implies rref(R) = \\begin{bmatrix}I \\\\ 0\\end{bmatrix} \\implies$ 0 or 1 solution.\n",
    "* $rank = m < n \\implies rref(R) = \\begin{bmatrix}I & F\\end{bmatrix} \\implies \\infty$ solutions.\n",
    "* $rank < m \\land rank < n \\implies rref(R) = \\begin{bmatrix}I & F \\\\ 0 & 0\\end{bmatrix} \\implies$ 0 or $\\infty$ solutions.\n",
    "\n",
    "## Linear independance\n",
    "Vectors are linear independant if no combination gives the $\\vec{0}$ except the zero combination. Or,... if the vectors are the columns of a matrix $A$, they are independant if the nullspace of $A$ is only the $\\vec{0}$."
   ]
  },
  {
   "cell_type": "code",
   "execution_count": null,
   "metadata": {},
   "outputs": [],
   "source": []
  }
 ],
 "metadata": {
  "language_info": {
   "name": "python",
   "pygments_lexer": "ipython3"
  }
 },
 "nbformat": 4,
 "nbformat_minor": 2
}
