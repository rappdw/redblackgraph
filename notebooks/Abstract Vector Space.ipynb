{
 "cells": [
  {
   "cell_type": "markdown",
   "metadata": {},
   "source": [
    "# Discrete Abstract Vector Spaces\n",
    "\n",
    "In exploring Red Black Graphs, we see a number of linear algebra applications. I'll explore formalizing things just a bit to ensure that Red Black Graphs are an abstract vector space.\n",
    "\n",
    "Recall that the following axioms must be satisfied for any abstract vector space\n",
    "\n",
    "1. Associativity of Vector Addition: $\\vec{u} + (\\vec{v} + \\vec{w}) = (\\vec{u} + \\vec{v}) + \\vec{w}$\n",
    "2. Commutativity of Vector Addition: $\\vec{u} + \\vec{v} = \\vec{v} + \\vec{u}$\n",
    "3. Identity element of Vector Addition: There exists an element $\\vec{0} \\in V$ such that $\\vec{v} + \\vec{0} = \\vec{v}$ for all ${\\vec{v} \\in V}$\n",
    "4. Inverse elements of addition: For every ${\\vec{v} \\in V}$, there exists an element $-{\\vec{v} \\in V}$ such that ${\\vec{v} + (-\\vec{v}) = \\vec{0}}$\n",
    "5. Compatibility of scalar multiplication with field multiplication: $a(b\\vec{v}) = (ab)\\vec{f}$\n",
    "6. Identity element of scalar multiplication: $1\\vec{v} = \\vec{v}$\n",
    "7. Distributivity of scalar multiplication with respect to vector addition: $a(\\vec{u} + \\vec{v}) = a\\vec{u} + a\\vec{v}$\n",
    "8. Distributivity of scalar multiplication with respect to field addition: $(a + b)\\vec{v} = a\\vec{v} + b\\vec{b}$\n",
    "\n",
    "I'll designate the vector space resulting from the exploration of representing family history utilizing the exploration of Red Black Graphs as the **Avos Vector Space**.\n",
    "\n",
    "Let's begin by formally defining scalar addition and multiplication.\n",
    "\n",
    "## Scalar Addition\n",
    "Recall from the previous exploration that I am using *non-zero minumum* in a similar fashion to addition. I'll extend that usage slightly in order to ensure that the requisite axioms are satisfied. Scalar Addition is defined as:\n",
    "$$a + b = \\begin{cases}\n",
    "        b, & \\text{if }a==0,\\\\\n",
    "        a, & \\text{if }b==0,\\\\\n",
    "        0, & \\text{if }a==-b,\\\\\n",
    "        min(a, b), & \\text{otherwise}\n",
    "\\end{cases}$$\n",
    "\n",
    "## Scalar Multiplication\n",
    "Scalar multiplication is simply the **avos scalar product**. Note that while the **avos scalar product** is associative, it is not commutative.\n",
    "\n",
    "## Vector Addition\n",
    "Before formally defining vector addition, consider the example motivating this. Each vector (assuming a row vector here) represents a person and their complete ancestry. As such it is easy to imagine that vector addition represents one of two cases:\n",
    "1. The resulting ancestry for the offspring of $\\vec{\\alpha}$ and $\\vec{\\beta}$\n",
    "2. The resulting ancestry of adding $\\vec{\\beta}$ as an immediate ancester (or distant ancester for that matter) of $\\vec{\\alpha}$\n",
    "\n",
    "Furthermore, recall that each vector will either be *red* (has one and only one element with value of $-1$) or *black* (has one and only one element with value of $1$). I designate this the \"self element\" and use $v_s$ to notationally represent the self element for a given vector $\\vec{v}$. Finally, $u_{s_v}$, represents the element in $\\vec{u}$ that is the \"self element\" in $\\vec{v}$.\n",
    "\n",
    "### Vector Addition for Impossible Cases\n",
    "There are cases that represent a temporal (I can't be my own Grandpa) or biological (offspring requires one parent of each gender) impossiblity. These cases are defined to result in $\\vec{0}$.\n",
    "\n",
    "### Vector Addition $\\implies$ Offspring\n",
    "This form of addition imposses the constraint: $\\alpha_{s_\\beta} == 0 \\land \\beta_{s_\\alpha} == 0 \\land \\alpha_s \\neq \\beta_s$. Arbitrarily selecting $\\vec{\\alpha}$ as the *red* vector and $\\vec{\\beta}$ as the *black* vector, vector addtion is defined as: $$\\vec{\\alpha} + \\vec{\\beta} = 2\\vec{\\alpha} + 3\\vec{\\beta}$$ where $+$ on the left hand side is vector addition and $+$ on the right hand side is element-wise scalar addtion.\n",
    "\n",
    "### Vector Addition $\\implies$ Add Relationship\n",
    "This form of addition imposses the constraint: $\\alpha_{s_\\beta} == 0 \\land \\beta_{s_\\alpha} == 0$. Arbitrarily selecting $\\vec{\\alpha}$ as the source of the relationship and $\\vec{\\beta}$ as the target of the relationship.\n",
    "\n",
    "$$\\vec{\\alpha} + \\vec{\\beta} = \\begin{cases}\n",
    "        \\vec{\\alpha} + 2\\vec{\\beta}, & \\text{if }\\vec{\\beta}\\text{ is red},\\\\\n",
    "        \\vec{\\alpha} + 3\\vec{\\beta}, & \\text{if }\\vec{\\beta}\\text{ is black}\n",
    "\\end{cases}$$\n",
    "\n",
    "where $+$ on the left hand side is vector addition and $+$ on the right hand side is element-wise scalar addtion.\n"
   ]
  },
  {
   "cell_type": "markdown",
   "metadata": {},
   "source": [
    "# Notes from Gilbert Strang's Lectures\n",
    "\n",
    "## Rank and Solutions\n",
    "* $rank = m = n \\implies rref(R) = I \\implies$ 1 solution.\n",
    "* $rank = n < m \\implies rref(R) = \\begin{bmatrix}I \\\\ 0\\end{bmatrix} \\implies$ 0 or 1 solution.\n",
    "* $rank = m < n \\implies rref(R) = \\begin{bmatrix}I & F\\end{bmatrix} \\implies \\infty$ solutions.\n",
    "* $rank < m \\land rank < n \\implies rref(R) = \\begin{bmatrix}I & F \\\\ 0 & 0\\end{bmatrix} \\implies$ 0 or $\\infty$ solutions.\n",
    "\n",
    "## Linear independance\n",
    "Vectors are linear independant if no combination gives the $\\vec{0}$ except the zero combination. Or,... if the vectors are the columns of a matrix $A$, they are independant if the nullspace of $A$ is only the $\\vec{0}$."
   ]
  },
  {
   "cell_type": "code",
   "execution_count": null,
   "metadata": {},
   "outputs": [],
   "source": []
  }
 ],
 "metadata": {
  "language_info": {
   "name": "python",
   "pygments_lexer": "ipython3"
  }
 },
 "nbformat": 4,
 "nbformat_minor": 2
}
