{
 "cells": [
  {
   "cell_type": "markdown",
   "metadata": {},
   "source": [
    "# Linear Algebra of Red Black Graphs\n",
    "\n",
    "## Introduction\n",
    "We have provided a formal definition for a Red Black Graph, looked at the adjacency matrix and it's transitive closure. We've discussed *pedigree numbers* and the *avos* product for scalers and looked at a number of interesting properites derived. We'll now extend these observations into a more general discussion of how principles of linear algebra can be applied to Red Black Graphs.\n",
    "\n",
    "## Vector Classes\n",
    "Within the context of a Red Black Graph and it's adjacency matrix, we define the following vector classes:\n",
    "\n",
    "* *row* vector - represented by *u*. These vectors represent ancestry for a given vertex. Values for elements in these vectors are constrained to natural numbers. Any positive integer may appear in an element at most once. One may appear only if the vertex is black.\n",
    "* *column* vector - represented by *v*. These vectors represent descendency for a given vertex. Values for elements in these vectors are also constrained to natural numbers. Furthermore if the vertex is red, they are constrained to even numbers, if the vertex is black, they are constrained to odd numbers (plus zero). One may appear only once, otherwise there are no constraints. \n",
    "* *simple row vector* - represented by *u<sub>s</sub>*. Row vectors for which elements are constrained to {0, 1, 2, 3}. These represent a given vertex and it's immediate ancestry only.\n",
    "* *simple column vector* - represented by *v<sub>s</sub>*. Column vectors for which elements are constrained to {0, 1, 2, 3}. These represent a given vertex and it's immediate descendency only.\n",
    "* *closed row vector* - represented by *u<sub>c</sub>*. Row vectors from $A_{rb}^+$. These represent the complete ancestry for a given vertex.\n",
    "* *closed column vector* - represented by *v<sub>c</sub>*. Column vectors from $A_{rb}^+$. These represent the complete descendency for a given vertex.\n",
    "\n",
    "## *avos* Product for Vectors\n",
    "\n",
    "Let's consider what an *avos* product might represent. Given a row vector and a column vector, we'll define the *avos* product to yield the *pedigree number* representing the relationship between the vertices representing the row and column vectors respectively. \n",
    "\n",
    "Consider the Red Black adjacency matrix from our prior example:\n",
    "\n",
    "\\begin{vmatrix}\n",
    "0 & 2 & 3 & 0 & 0 \\\\\n",
    "0 & 0 & 0 & 2 & 0 \\\\\n",
    "0 & 0 & 1 & 0 & 0 \\\\\n",
    "0 & 0 & 0 & 0 & 0 \\\\\n",
    "2 & 0 & 0 & 0 & 1 \\\\\n",
    "\\end{vmatrix}\n",
    "\n",
    "Assuming 0 indexing in the tha matrix, the 4th row vector is a simple row vector for $vertex_{4}$ while the 2nd column vector is simple column for $vertex_{2}$. It is trivally observable that that $vertex_{4}$ is related to $vertex_{2}$ (by *pedigree number* 5). \n",
    "\n",
    "\\begin{equation*}\n",
    "\\begin{vmatrix}\n",
    "2 & 0 & 0 & 0 & 1 \\\\\n",
    "\\end{vmatrix}\n",
    "\\cdot\n",
    "\\begin{vmatrix}\n",
    "3 \\\\\n",
    "0 \\\\\n",
    "1 \\\\\n",
    "0 \\\\\n",
    "0 \\\\\n",
    "\\end{vmatrix}\n",
    "= 5\n",
    "\\end{equation*}\n",
    "\n",
    "The vector dot product, summing element-wise products, results in a scaler value of 6. Element wise *avos* product does in fact yield *pedigree number* that represents a relationship. However, it is possible for there to be multiple paths through the graph bewteen two nodes. If that were the case, summing the element-wise *avos* product would not result in the *pedigree number* representing the relationship from $vertex_{a}$ to $vertex_{c}$. For the *avos* vector product, rather than summing the element-wise *avos* products we arbitrarily choos the non-zero minimum element-wise product, thus representing the \"closest\" relationship between $vertex_{a}$ and $vertex_{c}$.\n",
    "\n",
    "A simple implementation of the *avos* vector product follows:"
   ]
  },
  {
   "cell_type": "code",
   "execution_count": 8,
   "metadata": {},
   "outputs": [],
   "source": [
    "# %load ../redblackgraph/simple/vec_avos.py\n",
    "from redblackgraph.simple import avos\n",
    "\n",
    "def vec_avos(x, y):\n",
    "    '''Given two vectors, compute the \"avos\" dot product.'''\n",
    "    return min([avos(a, b) for a, b in zip(x, y) if a > 0 and b > 0], default=0)\n"
   ]
  },
  {
   "cell_type": "markdown",
   "metadata": {},
   "source": [
    "### Observations\n",
    "\n",
    "The product of a simple row vector and the transitive closure of a Red Black adjacency matrix is a closed row vector\n",
    "\\begin{equation*}\n",
    "u_{s} A_{rb}^+ = u_{c}\n",
    "\\end{equation*}\n",
    "\n",
    "The product of the transitive closure of a Red Black adjacency matrix and a simple column vector is a closed column vector\n",
    "\\begin{equation*}\n",
    "A_{rb}^+ v_{s} = v_{c}\n",
    "\\end{equation*}\n"
   ]
  },
  {
   "cell_type": "markdown",
   "metadata": {},
   "source": [
    "## Matrix multiplication\n",
    "\n",
    "With scaler and vector *avos* products defined, extension to matrices is elementary. Given *A* and *B*, both matrices following the contraints defined for Red-Black adjacency matrices, and *C* = *A* *B*, the elements of $C_{ij}$ are given by:\n",
    "* if i != j, the vector *avos* product of *row vector<sub>i</sub>* from A and *column vector<sub>j</sub>* from B\n",
    "* if i == j and $A_{ij}$ == $B_{ij}$, $A_{ij}$\n",
    "* otherwise, undefined.\n",
    "\n",
    "Matrix multiplication of Red-Black adjacency matrices may seem a little abstract so let's consider a practical example to motivate the analysis. Given a Red-Black adjacency matrix, *A<sub>rb</sub>*, the result of $A_{rb}^2$ shows all vertices directly related by following up to 2 relationship edges, the result of $A_{rb}^3$ shows all vertices related by following up to 3 relationship edges, etc. For some *n* <= |*V*| there will be a $A_{rb}^n$ == $A_{rb}^+$.\n",
    "\n",
    "A simple implementation of the avox matrix product follows:"
   ]
  },
  {
   "cell_type": "code",
   "execution_count": 1,
   "metadata": {},
   "outputs": [],
   "source": [
    "# %load ../redblackgraph/simple/mat_avos.py\n",
    "from redblackgraph.simple import avos\n",
    "\n",
    "\n",
    "def mat_avos(A, B):\n",
    "    '''Given two matrices, compute the \"avos\" product.'''\n",
    "    return [[min([avos(a, b) for a, b in zip(A_row, B_col) if a > 0 and b > 0], default=0) for B_col in zip(*B)] for\n",
    "            A_row in A]\n"
   ]
  },
  {
   "cell_type": "code",
   "execution_count": 2,
   "metadata": {},
   "outputs": [
    {
     "name": "stdout",
     "output_type": "stream",
     "text": [
      "[[0, 0, 3, 4, 0], [0, 0, 0, 0, 0], [0, 0, 1, 0, 0], [0, 0, 0, 0, 0], [0, 4, 5, 0, 1]]\n"
     ]
    }
   ],
   "source": [
    "A = [[0, 2, 3, 0, 0], [0, 0, 0, 2, 0], [0, 0, 1, 0, 0], [0, 0, 0, 0, 0], [2, 0, 0, 0, 1]]\n",
    "print(mat_avos(A, A))"
   ]
  },
  {
   "cell_type": "markdown",
   "metadata": {},
   "source": [
    "## Relational Composition\n",
    "\n",
    "The question arise how to correctly update *A<sub>rb</sub><sup>+</sup>* with the addition of new vertices to the graph. We propose an algorithm that is relatively simple in concept that generates *A<sup>'</sup><sub>rb</sub><sup>+</sup>*. Consider adding a vertex to the graph corresponding to *A<sub>rb</sub><sup>+</sup>* of size *N*. We define a relational composition that can be used to add a new node to the graph and produce *A<sup>'</sup><sub>rb</sub><sup>+</sup>* of size *N* + 1. Conceptually:\n",
    "\n",
    "*A<sup>'</sup><sub>rb</sub><sup>+</sup>* = *v* *A<sub>rb</sub><sup>+</sup>* *u*\n",
    "\n",
    "Precisely this relational composition is accomplished by:\n",
    "\n",
    "1. generate *v<sub>c</sub>* (given by observation 1 above)\n",
    "2. generate *u<sub>c</sub>* (given by observation 2 above)\n",
    "3. *A<sup>'</sup><sub>rb</sub><sup>+</sup>* is composed by:\n",
    "    1. appending *v<sub>c</sub>* as a new row\n",
    "    2. appending *u<sub>c</sub>* as a new column\n",
    "    3. setting element *A<sup>'</sup><sub>rb</sub><sup>+</sup>*<sub>N+1, N+1</sub> to 0 if vertex is red, and 1 if vertex is black\n",
    "    4. For each row, r, where *v<sub>c<sub>i</sub></sub>* != 0, set *A<sup>'</sup><sub>rb</sub><sup>+</sup>*<sub>r,i</sub> = *v<sub>c<sub>r</sub></sub>* avos *u<sub>c<sub>i</sub></sub>*"
   ]
  },
  {
   "cell_type": "markdown",
   "metadata": {},
   "source": [
    "## Areas of Further investigation\n",
    "\n",
    "* Determinants\n",
    "* Eigenvalues\n",
    "* Loop prevention\n",
    "* *avos* properties (commutitivity, associativity, distribution, identity, inverse, etc.)\n",
    "* Spectral Graph Theory\n",
    "* Explore ideas to reduce dimensionality (embedding similar to word2vec, etc.)\n",
    "* Axioms of linear algebra:\n",
    "    * u + (v + w) = (u + v) + w\n",
    "    * v + w = w + v\n",
    "    * There is a vector *0* such that *0* + v = v for all v\n",
    "    * For every vector v there is a vector -v so that v + (-v) = *0*\n",
    "    * a(bv) = (ab)v\n",
    "    * 1v = v\n",
    "    * a(v + w) = av + aw\n",
    "    * (a + b)v = av + bv"
   ]
  }
 ],
 "metadata": {
  "hide_input": false,
  "kernelspec": {
   "display_name": "Python 3",
   "language": "python",
   "name": "python3"
  },
  "language_info": {
   "codemirror_mode": {
    "name": "ipython",
    "version": 3
   },
   "file_extension": ".py",
   "mimetype": "text/x-python",
   "name": "python",
   "nbconvert_exporter": "python",
   "pygments_lexer": "ipython3",
   "version": "3.6.3"
  }
 },
 "nbformat": 4,
 "nbformat_minor": 2
}
