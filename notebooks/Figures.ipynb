{
 "cells": [
  {
   "cell_type": "code",
   "execution_count": null,
   "metadata": {},
   "outputs": [],
   "source": [
    "import networkx as nx\n",
    "from nxpd import draw"
   ]
  },
  {
   "cell_type": "code",
   "execution_count": null,
   "metadata": {},
   "outputs": [],
   "source": [
    "G = nx.DiGraph()\n",
    "G.graph['dpi'] = 120\n",
    "G.add_node('male progenitor', color='red')\n",
    "G.add_node('female progenitor', color='black')\n",
    "G.add_node('female offspring', color='black')\n",
    "G.add_node('male offspring', color='red')\n",
    "G.add_edge('male offspring', 'male progenitor')\n",
    "G.add_edge('male offspring', 'female progenitor')\n",
    "G.add_edge('female offspring', 'male progenitor')\n",
    "G.add_edge('female offspring', 'female progenitor')\n",
    "\n",
    "draw(G, filename=\"img/simple-graph.png\", format=\"png\", show=\"ipynb\")\n"
   ]
  },
  {
   "cell_type": "code",
   "execution_count": null,
   "metadata": {},
   "outputs": [],
   "source": [
    "G = nx.DiGraph()\n",
    "G.graph['dpi'] = 120\n",
    "G.add_node('male progenitor', color='red')\n",
    "G.add_node('female progenitor', color='black')\n",
    "G.add_node('female offspring', color='black')\n",
    "G.add_edge('female offspring', 'male progenitor')\n",
    "G.add_edge('female offspring', 'female progenitor')\n",
    "\n",
    "draw(G, filename=\"img/simple-graph-ancestry.png\", format=\"png\", show=\"ipynb\")"
   ]
  },
  {
   "cell_type": "code",
   "execution_count": null,
   "metadata": {},
   "outputs": [],
   "source": [
    "G = nx.DiGraph()\n",
    "G.graph['dpi'] = 120\n",
    "G.add_node('female progenitor', color='black')\n",
    "G.add_node('female offspring', color='black')\n",
    "G.add_node('male offspring', color='red')\n",
    "G.add_edge('male offspring', 'female progenitor')\n",
    "G.add_edge('female offspring', 'female progenitor')\n",
    "\n",
    "draw(G, filename=\"img/simple-graph-descendency.png\", format=\"png\", show=\"ipynb\")"
   ]
  },
  {
   "cell_type": "code",
   "execution_count": null,
   "metadata": {},
   "outputs": [],
   "source": [
    "G = nx.DiGraph()\n",
    "G.graph['dpi'] = 120\n",
    "G.add_node('0', color='red')\n",
    "G.add_node('1', color='red')\n",
    "G.add_node('2', color='black')\n",
    "G.add_node('3', color='red')\n",
    "G.add_node('4', color='black')\n",
    "G.add_edge('0', '1')\n",
    "G.add_edge('0', '2')\n",
    "G.add_edge('1', '3')\n",
    "G.add_edge('4', '0')\n",
    "draw(G, filename=\"img/simple-graph-transitive-closure.png\", format=\"png\", show=\"ipynb\")"
   ]
  },
  {
   "cell_type": "code",
   "execution_count": null,
   "metadata": {},
   "outputs": [],
   "source": [
    "import networkx as nx\n",
    "from nxpd import draw\n",
    "G = nx.DiGraph()\n",
    "G.graph['dpi'] = 120\n",
    "G.add_node('D', color='red')\n",
    "G.add_node('E', color='red')\n",
    "G.add_node('H', color='red')\n",
    "G.add_node('Mi', color='red')\n",
    "G.add_node('J', color='red')\n",
    "G.add_node('Do', color='red')\n",
    "G.add_node('G', color='red')\n",
    "G.add_node('S', color='red')\n",
    "G.add_node('R', color='black')\n",
    "G.add_node('M', color='black')\n",
    "G.add_node('A', color='black')\n",
    "G.add_node('I', color='black')\n",
    "G.add_node('Ev', color='black')\n",
    "G.add_node('Ma', color='black')\n",
    "G.add_node('Em', color='black')\n",
    "G.add_edge('D', 'E')\n",
    "G.add_edge('D', 'R')\n",
    "G.add_edge('H', 'E')\n",
    "G.add_edge('H', 'M')\n",
    "G.add_edge('E', 'Mi')\n",
    "G.add_edge('E', 'A')\n",
    "G.add_edge('Mi', 'G')\n",
    "G.add_edge('Mi', 'Ma')\n",
    "G.add_edge('J', 'S')\n",
    "G.add_edge('J', 'Em')\n",
    "G.add_edge('Do', 'J')\n",
    "G.add_edge('Do', 'Ev')\n",
    "G.add_edge('R', 'J')\n",
    "G.add_edge('R', 'I')\n",
    "draw(G, filename=\"img/small-graph.png\", format=\"png\", show=\"ipynb\")"
   ]
  },
  {
   "cell_type": "code",
   "execution_count": null,
   "metadata": {},
   "outputs": [],
   "source": [
    "G = nx.DiGraph()\n",
    "G.graph['dpi'] = 120\n",
    "G.add_node('4', color='red')\n",
    "G.add_node('1', color='red')\n",
    "G.add_node('6', color='black')\n",
    "G.add_node('2', color='black')\n",
    "G.add_node('0', color='red')\n",
    "G.add_node('5', color='black')\n",
    "G.add_node('3', color='red')\n",
    "G.add_edge('4', '1')\n",
    "G.add_edge('4', '6')\n",
    "G.add_edge('2', '0')\n",
    "G.add_edge('0', '5')\n",
    "G.add_edge('0', '3')\n",
    "draw(G, filename=\"img/find-components.png\", format=\"png\", show=\"ipynb\")"
   ]
  },
  {
   "cell_type": "code",
   "execution_count": null,
   "metadata": {},
   "outputs": [],
   "source": [
    "G = nx.DiGraph()\n",
    "G.graph['dpi'] = 120\n",
    "G.add_node('4', color='red')\n",
    "G.add_node('6', color='red')\n",
    "G.add_node('5', color='black')\n",
    "G.add_node('0', color='black')\n",
    "G.add_node('1', color='red')\n",
    "G.add_node('2', color='black')\n",
    "G.add_node('3', color='red')\n",
    "G.add_edge('0', '1')\n",
    "G.add_edge('1', '2')\n",
    "G.add_edge('1', '3')\n",
    "G.add_edge('4', '5')\n",
    "G.add_edge('4', '6')\n",
    "draw(G, filename=\"img/canonical.png\", format=\"png\", show=\"ipynb\")"
   ]
  },
  {
   "cell_type": "code",
   "execution_count": null,
   "metadata": {},
   "outputs": [],
   "source": []
  }
 ],
 "metadata": {
  "language_info": {
   "name": "python",
   "pygments_lexer": "ipython3"
  }
 },
 "nbformat": 4,
 "nbformat_minor": 2
}
