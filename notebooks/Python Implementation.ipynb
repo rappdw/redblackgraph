{
 "cells": [
  {
   "cell_type": "markdown",
   "metadata": {},
   "source": [
    "# Optimized Python Implementation\n",
    "\n",
    "In the previous workbooks, a simple implementation was provided in pure python. For performance optimized linear algebra operations, extension modules are provided by Numpy, SciPy, etc. The redblackgraph module also provides extension model implementations that are described below\n",
    "\n",
    "## rb.array / rb.matrix\n",
    "\n",
    "The redblackgraph module provides two Numpy-like implementations, one of array and one of matrix.\n",
    "\n",
    "The distinctive characteristics of these classes are matrix multiplication has been overridden to support Red Black Graph linear algebra. As well as methods being defined for `transitive_closure` and `relational_composition`\n",
    "\n",
    "For example:"
   ]
  },
  {
   "cell_type": "code",
   "execution_count": 1,
   "metadata": {},
   "outputs": [],
   "source": [
    "import redblackgraph as rb\n",
    "import numpy as np"
   ]
  },
  {
   "cell_type": "code",
   "execution_count": 2,
   "metadata": {},
   "outputs": [],
   "source": [
    "A = rb.array([[-1,  2,  3,  0,  0],\n",
    "              [ 0, -1,  0,  2,  0],\n",
    "              [ 0,  0,  1,  0,  0],\n",
    "              [ 0,  0,  0, -1,  0],\n",
    "              [ 2,  0,  0,  0,  1]], dtype=np.int64)"
   ]
  },
  {
   "cell_type": "code",
   "execution_count": 3,
   "metadata": {},
   "outputs": [
    {
     "data": {
      "text/plain": [
       "array([[-1,  2,  3,  4,  0],\n",
       "       [ 0, -1,  0,  2,  0],\n",
       "       [ 0,  0,  1,  0,  0],\n",
       "       [ 0,  0,  0, -1,  0],\n",
       "       [ 2,  4,  5,  8,  1]])"
      ]
     },
     "execution_count": 3,
     "metadata": {},
     "output_type": "execute_result"
    }
   ],
   "source": [
    "A_star = A @ A @ A\n",
    "A_star"
   ]
  },
  {
   "cell_type": "code",
   "execution_count": 4,
   "metadata": {},
   "outputs": [],
   "source": [
    "u = rb.array([[2, 0, 0, 0, 0]])\n",
    "v = rb.array([[0],\n",
    "              [3],\n",
    "              [0],\n",
    "              [0],\n",
    "              [0]])\n",
    "u_lambda = u @ A_star\n",
    "v_lambda = A_star @ v"
   ]
  },
  {
   "cell_type": "code",
   "execution_count": 5,
   "metadata": {},
   "outputs": [
    {
     "data": {
      "text/plain": [
       "array([[2, 4, 5, 8, 0]])"
      ]
     },
     "execution_count": 5,
     "metadata": {},
     "output_type": "execute_result"
    }
   ],
   "source": [
    "u_lambda"
   ]
  },
  {
   "cell_type": "code",
   "execution_count": 6,
   "metadata": {},
   "outputs": [
    {
     "data": {
      "text/plain": [
       "array([[5],\n",
       "       [3],\n",
       "       [0],\n",
       "       [0],\n",
       "       [9]])"
      ]
     },
     "execution_count": 6,
     "metadata": {},
     "output_type": "execute_result"
    }
   ],
   "source": [
    "v_lambda"
   ]
  },
  {
   "cell_type": "code",
   "execution_count": 13,
   "metadata": {},
   "outputs": [
    {
     "name": "stdout",
     "output_type": "stream",
     "text": [
      "10.4 µs ± 277 ns per loop (mean ± std. dev. of 7 runs, 100000 loops each)\n"
     ]
    }
   ],
   "source": [
    "%%timeit\n",
    "A = rb.array([[-1,  2,  3,  0,  0],\n",
    "              [ 0, -1,  0,  2,  0],\n",
    "              [ 0,  0,  1,  0,  0],\n",
    "              [ 0,  0,  0, -1,  0],\n",
    "              [ 2,  0,  0,  0,  1]], dtype=np.int64)\n",
    "A_star, diameter = A.transitive_closure()\n"
   ]
  },
  {
   "cell_type": "code",
   "execution_count": 14,
   "metadata": {},
   "outputs": [
    {
     "name": "stdout",
     "output_type": "stream",
     "text": [
      "A_star:\n",
      "[[-1  2  3  4  0]\n",
      " [ 0 -1  0  2  0]\n",
      " [ 0  0  1  0  0]\n",
      " [ 0  0  0 -1  0]\n",
      " [ 2  4  5  8  1]] \n",
      "diameter: 3\n"
     ]
    }
   ],
   "source": [
    "print(f\"A_star:\\n{A_star} \\ndiameter: {diameter}\")"
   ]
  },
  {
   "cell_type": "code",
   "execution_count": 11,
   "metadata": {},
   "outputs": [
    {
     "name": "stdout",
     "output_type": "stream",
     "text": [
      "50.2 µs ± 2.98 µs per loop (mean ± std. dev. of 7 runs, 10000 loops each)\n"
     ]
    }
   ],
   "source": [
    "%%timeit\n",
    "u = rb.array([[2, 0, 0, 0, 0, 1]])\n",
    "v = rb.array([[0],\n",
    "              [0],\n",
    "              [0],\n",
    "              [0],\n",
    "              [0],\n",
    "              [1]])\n",
    "A_lambda = A_star.relational_composition(u, v)"
   ]
  },
  {
   "cell_type": "code",
   "execution_count": 12,
   "metadata": {},
   "outputs": [
    {
     "name": "stdout",
     "output_type": "stream",
     "text": [
      "A_lambda:\n",
      "[[-1  2  3  4  0  0]\n",
      " [ 0 -1  0  2  0  0]\n",
      " [ 0  0  1  0  0  0]\n",
      " [ 0  0  0 -1  0  0]\n",
      " [ 2  4  5  8  1  0]\n",
      " [ 2  4  5  8  0  1]]\n"
     ]
    }
   ],
   "source": [
    "print(f\"A_lambda:\\n{A_lambda}\")"
   ]
  }
 ],
 "metadata": {
  "hide_input": false,
  "kernelspec": {
   "display_name": "Python 3",
   "language": "python",
   "name": "python3"
  },
  "language_info": {
   "codemirror_mode": {
    "name": "ipython",
    "version": 3
   },
   "file_extension": ".py",
   "mimetype": "text/x-python",
   "name": "python",
   "nbconvert_exporter": "python",
   "pygments_lexer": "ipython3",
   "version": "3.6.3"
  }
 },
 "nbformat": 4,
 "nbformat_minor": 2
}
