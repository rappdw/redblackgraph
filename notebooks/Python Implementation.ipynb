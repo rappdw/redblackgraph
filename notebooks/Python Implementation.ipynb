{
 "cells": [
  {
   "cell_type": "markdown",
   "metadata": {},
   "source": [
    "# Optimized Python Implementation(s)\n",
    "\n",
    "In the previous workbooks, a simple implementation was provided in pure python. For a number of reasons, extension modules are provided by Numpy, SciPy, etc. for optimized matrix operations. The redblackgraph module also provides extension model implementations that are described below\n",
    "\n",
    "## rb.array / rb.matrix\n",
    "\n",
    "The redblackgraph module provides two Numpy-like implementations, one of array (rbarray) and one of matrix (rbmatrix).\n",
    "\n",
    "The distinctive characteristics of these classes are matrix multiplication has been overridden to support Red Black Graph linear algebra.\n",
    "\n",
    "For example:"
   ]
  },
  {
   "cell_type": "code",
   "execution_count": 1,
   "metadata": {},
   "outputs": [],
   "source": [
    "from redblackgraph import array, matrix, warshall\n",
    "import numpy as np"
   ]
  },
  {
   "cell_type": "code",
   "execution_count": 2,
   "metadata": {},
   "outputs": [],
   "source": [
    "A = array([[-1,  2,  3,  0,  0],\n",
    "             [ 0, -1,  0,  2,  0],\n",
    "             [ 0,  0,  1,  0,  0],\n",
    "             [ 0,  0,  0, -1,  0],\n",
    "             [ 2,  0,  0,  0,  1]], dtype=np.int64)"
   ]
  },
  {
   "cell_type": "code",
   "execution_count": 3,
   "metadata": {},
   "outputs": [
    {
     "data": {
      "text/plain": [
       "array([[-1,  2,  3,  4,  0],\n",
       "       [ 0, -1,  0,  2,  0],\n",
       "       [ 0,  0,  1,  0,  0],\n",
       "       [ 0,  0,  0, -1,  0],\n",
       "       [ 2,  4,  5,  8,  1]])"
      ]
     },
     "execution_count": 3,
     "metadata": {},
     "output_type": "execute_result"
    }
   ],
   "source": [
    "A_star = A @ A @ A\n",
    "A_star"
   ]
  },
  {
   "cell_type": "code",
   "execution_count": 4,
   "metadata": {},
   "outputs": [],
   "source": [
    "u = array([[2, 0, 0, 0, 0]])\n",
    "v = array([[0],\n",
    "             [3],\n",
    "             [0],\n",
    "             [0],\n",
    "             [0]])\n",
    "u_lambda = u @ A_star\n",
    "v_lambda = A_star @ v"
   ]
  },
  {
   "cell_type": "code",
   "execution_count": 5,
   "metadata": {},
   "outputs": [
    {
     "data": {
      "text/plain": [
       "array([[2, 4, 5, 8, 0]])"
      ]
     },
     "execution_count": 5,
     "metadata": {},
     "output_type": "execute_result"
    }
   ],
   "source": [
    "u_lambda"
   ]
  },
  {
   "cell_type": "code",
   "execution_count": 6,
   "metadata": {},
   "outputs": [
    {
     "data": {
      "text/plain": [
       "array([[5],\n",
       "       [3],\n",
       "       [0],\n",
       "       [0],\n",
       "       [9]])"
      ]
     },
     "execution_count": 6,
     "metadata": {},
     "output_type": "execute_result"
    }
   ],
   "source": [
    "v_lambda"
   ]
  },
  {
   "cell_type": "markdown",
   "metadata": {},
   "source": [
    "**note:** Rank 1 arrays can cause unexpected results. See: [Notes from Andrew Ng Lecture](https://www.coursera.org/learn/neural-networks-deep-learning/lecture/87MUx/a-note-on-python-numpy-vectors)"
   ]
  },
  {
   "cell_type": "code",
   "execution_count": 8,
   "metadata": {},
   "outputs": [
    {
     "data": {
      "text/plain": [
       "(array([[-1,  2,  3,  4,  0],\n",
       "        [ 0, -1,  0,  2,  0],\n",
       "        [ 0,  0,  1,  0,  0],\n",
       "        [ 0,  0,  0, -1,  0],\n",
       "        [ 2,  4,  5,  8,  1]]), array(3, dtype=int32))"
      ]
     },
     "execution_count": 8,
     "metadata": {},
     "output_type": "execute_result"
    }
   ],
   "source": [
    "warshall(array([[-1,  2,  3,  0,  0],\n",
    "             [ 0, -1,  0,  2,  0],\n",
    "             [ 0,  0,  1,  0,  0],\n",
    "             [ 0,  0,  0, -1,  0],\n",
    "             [ 2,  0,  0,  0,  1]], dtype=np.int64))"
   ]
  },
  {
   "cell_type": "code",
   "execution_count": null,
   "metadata": {},
   "outputs": [],
   "source": []
  }
 ],
 "metadata": {
  "hide_input": false,
  "kernelspec": {
   "display_name": "Python 3",
   "language": "python",
   "name": "python3"
  },
  "language_info": {
   "codemirror_mode": {
    "name": "ipython",
    "version": 3
   },
   "file_extension": ".py",
   "mimetype": "text/x-python",
   "name": "python",
   "nbconvert_exporter": "python",
   "pygments_lexer": "ipython3",
   "version": "3.6.3"
  }
 },
 "nbformat": 4,
 "nbformat_minor": 2
}
